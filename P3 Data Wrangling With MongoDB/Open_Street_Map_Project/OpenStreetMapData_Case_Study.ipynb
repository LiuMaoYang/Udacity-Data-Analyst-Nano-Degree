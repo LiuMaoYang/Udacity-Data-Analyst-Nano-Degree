{
 "cells": [
  {
   "cell_type": "markdown",
   "metadata": {},
   "source": [
    "# OpenStreetMapData Case Study"
   ]
  },
  {
   "cell_type": "markdown",
   "metadata": {},
   "source": [
    "**Author : Chaitanya Madala **"
   ]
  },
  {
   "cell_type": "markdown",
   "metadata": {},
   "source": [
    "**Date : May 15, 2016 **"
   ]
  },
  {
   "cell_type": "markdown",
   "metadata": {},
   "source": [
    "## Map Area\n",
    "\n",
    "[Ahmedabad, Gujarat, India](https://en.wikipedia.org/wiki/Ahmedabad)\n",
    "\n",
    "[DataSet](https://mapzen.com/data/metro-extracts/metro/ahmedabad_india/) : This Dataset which is extracted from website openstreetmap contains information about the city Ahmedabad, India"
   ]
  },
  {
   "cell_type": "markdown",
   "metadata": {},
   "source": [
    "## Data Auditing\n",
    "- As part of data auditing plan lets find out what are the different types of tags present in our data set, but also how many, to get the feeling on how much of which data we can expect to have in the map.\n",
    "\n",
    "- Below are required imports and constants which will be used throught the project."
   ]
  },
  {
   "cell_type": "code",
   "execution_count": 2,
   "metadata": {
    "collapsed": true
   },
   "outputs": [],
   "source": [
    "import xml.etree.cElementTree as ET\n",
    "from collections import defaultdict\n",
    "import pprint\n",
    "import re\n",
    "\n",
    "INPUT_FILENAME = 'ahmedabad_india1.osm'"
   ]
  },
  {
   "cell_type": "code",
   "execution_count": 3,
   "metadata": {
    "collapsed": false,
    "scrolled": true
   },
   "outputs": [
    {
     "name": "stdout",
     "output_type": "stream",
     "text": [
      "{'bounds': 1, 'tag': 98131, 'node': 546085, 'nd': 634041, 'way': 81271, 'member': 2291, 'relation': 511, 'osm': 1}\n"
     ]
    }
   ],
   "source": [
    "def count_tags(filename): \n",
    "   \n",
    "    '''This function is written to count no of \n",
    "       different tags present in the given dataset'''\n",
    "    \n",
    "    dict_tags = {}\n",
    "    for event,element in ET.iterparse(filename):\n",
    "        tag = element.tag\n",
    "        if tag in dict_tags:\n",
    "            dict_tags[tag] += 1\n",
    "        else:\n",
    "            dict_tags[tag] = 1\n",
    "            \n",
    "    return dict_tags\n",
    "\n",
    "tags = count_tags(INPUT_FILENAME)\n",
    "print(tags)"
   ]
  },
  {
   "cell_type": "markdown",
   "metadata": {},
   "source": [
    "- Now lets find out how many different users contributed to this Ahemdabad openstreetmap dataset. "
   ]
  },
  {
   "cell_type": "code",
   "execution_count": 4,
   "metadata": {
    "collapsed": false
   },
   "outputs": [
    {
     "name": "stdout",
     "output_type": "stream",
     "text": [
      "Number of users contributed:  354\n"
     ]
    }
   ],
   "source": [
    "def count_users(filename):\n",
    "    \n",
    "    '''This function is written to countthe number of distinct \n",
    "    users who contributed to the Ahemdabad Openstreetmap data'''\n",
    "    \n",
    "    users_set = set()\n",
    "    for event,element in ET.iterparse(filename):\n",
    "        tag = element.tag\n",
    "        if tag == 'node' or tag == 'relation' or tag == 'way':\n",
    "             users_set.add(element.attrib['user'])\n",
    "        element.clear()        \n",
    "    return users_set\n",
    "\n",
    "users = count_users(INPUT_FILENAME)\n",
    "print('Number of users contributed: ',len(users))"
   ]
  },
  {
   "cell_type": "markdown",
   "metadata": {},
   "source": [
    "- Before we procees the data and add it into our database, we should check \"k\" value for each tag and see if there are any potential problems"
   ]
  },
  {
   "cell_type": "code",
   "execution_count": 5,
   "metadata": {
    "collapsed": false
   },
   "outputs": [
    {
     "data": {
      "text/plain": [
       "{'lower': 96127, 'lower_colon': 1962, 'other': 35, 'problemchars': 7}"
      ]
     },
     "execution_count": 5,
     "metadata": {},
     "output_type": "execute_result"
    }
   ],
   "source": [
    "lower = re.compile(r'^([a-z]|_)*$')\n",
    "lower_colon = re.compile(r'^([a-z]|_)*:([a-z]|_)*$')\n",
    "problemchars = re.compile(r'[=\\+/&<>();\\'\"?%#$@\\,\\. \\t\\r\\n]')\n",
    "\n",
    "problem_chars_set = set()\n",
    "others_set = set()\n",
    "\n",
    "def key_type(element, keys):\n",
    "    '''This function is defined to categorize different \"k\" values'''\n",
    "    if element.tag == \"tag\":\n",
    "        tag_k_value = element.attrib['k']\n",
    "        match_lower = re.search(lower,tag_k_value)\n",
    "        match_lower_colon = re.search(lower_colon,tag_k_value)\n",
    "        match_problemchars  = re.search(problemchars,tag_k_value)\n",
    "        \n",
    "        if match_lower :\n",
    "            keys['lower'] += 1     \n",
    "        elif match_lower_colon :\n",
    "            keys['lower_colon'] += 1            \n",
    "        elif match_problemchars:\n",
    "            keys['problemchars'] += 1\n",
    "            problem_chars_set.add(tag_k_value)\n",
    "        else :\n",
    "            keys['other'] += 1\n",
    "            others_set.add(tag_k_value)\n",
    "            \n",
    "    return keys\n",
    "\n",
    "def process_tags(filename):\n",
    "    keys = {\"lower\": 0, \"lower_colon\": 0, \"problemchars\": 0, \"other\": 0}\n",
    "    for event,element in ET.iterparse(filename):\n",
    "        keys = key_type(element, keys)\n",
    "\n",
    "    return keys\n",
    "\n",
    "process_tags(INPUT_FILENAME)"
   ]
  },
  {
   "cell_type": "markdown",
   "metadata": {
    "collapsed": false
   },
   "source": [
    "- The above data shows that there are 35 other category tags and 7 problem char tags. Now lets take a look at these problemchars tags and other category tags to identify those tags, which might be useful for database insertion."
   ]
  },
  {
   "cell_type": "code",
   "execution_count": 6,
   "metadata": {
    "collapsed": false
   },
   "outputs": [
    {
     "name": "stdout",
     "output_type": "stream",
     "text": [
      "{'average rate/kg', 'famous for'}\n"
     ]
    }
   ],
   "source": [
    "print(problem_chars_set)"
   ]
  },
  {
   "cell_type": "code",
   "execution_count": 7,
   "metadata": {
    "collapsed": false
   },
   "outputs": [
    {
     "name": "stdout",
     "output_type": "stream",
     "text": [
      "{'name_2', 'plant:output:electricity', 'IR:zone', 'name_1', 'mtb:scale:imba', 'fuel:octane_91', 'naptan:CommonName', 'is_in:iso_3166_2', 'Business', 'source_1', 'source_2', 'mtb:scale:uphill', 'FID_1', 'FIXME', 'currency:INR', 'fuel:octane_80', 'fuel:octane_92', 'AND_a_nosr_p', 'AND_a_c'}\n"
     ]
    }
   ],
   "source": [
    "print(others_set)"
   ]
  },
  {
   "cell_type": "markdown",
   "metadata": {},
   "source": [
    "- From the above listed tags, we can discard all of them except for \"famous for\" tag, as it has some meaningfull data associated with it i.e, it has the value of famous dish of that particular place or resturant. \n",
    "\n",
    "- Now lets find out what all different \"k\" values are present in the data set."
   ]
  },
  {
   "cell_type": "code",
   "execution_count": 8,
   "metadata": {
    "collapsed": false
   },
   "outputs": [
    {
     "name": "stdout",
     "output_type": "stream",
     "text": [
      "Length of k values dictionary:  203\n"
     ]
    }
   ],
   "source": [
    "def process_tags_k_val(filename):\n",
    "    '''This function is written to find out \n",
    "    different k values present in dataset'''\n",
    "    tags_k_values_dict = {}\n",
    "    final_list = list(others_set) + list(problem_chars_set)\n",
    "    for event,element in ET.iterparse(filename):\n",
    "        if element.tag == 'tag' :\n",
    "            tag_k = element.attrib['k']\n",
    "            if tag_k not in final_list:\n",
    "                if tag_k not in tags_k_values_dict:\n",
    "                    tags_k_values_dict[tag_k] = 1\n",
    "                else :\n",
    "                    tags_k_values_dict[tag_k] += 1\n",
    "                \n",
    "    return tags_k_values_dict\n",
    "\n",
    "tags = process_tags_k_val(INPUT_FILENAME)\n",
    "print(\"Length of k values dictionary: \",len(tags))"
   ]
  },
  {
   "cell_type": "markdown",
   "metadata": {},
   "source": [
    "- As the length of dictionary is 203, the output will be huge, So I writing it to a external file called **\"tags.txt\" **."
   ]
  },
  {
   "cell_type": "code",
   "execution_count": 10,
   "metadata": {
    "collapsed": false
   },
   "outputs": [],
   "source": [
    "with open('tags.txt','w') as tags_file:\n",
    "    for k in sorted(tags.keys()):\n",
    "        tags_file.write(\"{0} --> {1}\\n\".format(k,tags[k]))   "
   ]
  },
  {
   "cell_type": "markdown",
   "metadata": {},
   "source": [
    "- Now lets take a look at different postal codes present in the dataset to validate them against correct format of Ahemdabad postal codes.\n",
    "- This [[website]](http://www.mapsofindia.com/pincode/india/gujarat/ahmedabad/) lists out all the available postal codes of Ahemdabad, whcih are of the format **(38\\*\\*\\*\\*)** and are 6 digits in length.\n",
    "- When we take a look at different \"k\" value tags present in \"tags.txt\", we find that postal codes are defined under **\"addr:postcode\",\"postal_code\"**.   "
   ]
  },
  {
   "cell_type": "code",
   "execution_count": 82,
   "metadata": {
    "collapsed": false
   },
   "outputs": [],
   "source": [
    "correct_postal_code_set = set()\n",
    "incorrect_postal_code_set = set()\n",
    "\n",
    "def validate_postal_code(code):\n",
    "    validate_postal_code = re.compile(r'^38(\\d{4})$') #regular expression to validate postal codes.\n",
    "    match = re.search(validate_postal_code,code)\n",
    "    return match\n",
    "    \n",
    "def process_postal_codes(filename):\n",
    "    for event,element in ET.iterparse(filename):\n",
    "        if element.tag == 'tag':\n",
    "            tag_k = element.attrib['k']\n",
    "            if tag_k in ['addr:postcode','postal_code']:\n",
    "                tag_v = element.attrib['v'].replace(' ','')\n",
    "                \n",
    "                match = validate_postal_code(tag_v)\n",
    "                if match :\n",
    "                    correct_postal_code_set.add(tag_v)\n",
    "                else:\n",
    "                    incorrect_postal_code_set.add(tag_v)\n",
    "                                        \n",
    "process_postal_codes(INPUT_FILENAME)                        "
   ]
  },
  {
   "cell_type": "code",
   "execution_count": 139,
   "metadata": {
    "collapsed": false
   },
   "outputs": [
    {
     "name": "stdout",
     "output_type": "stream",
     "text": [
      "['380001', '380003', '380004', '380005', '380006', '380007', '380008', '380009', '380013', '380014', '380015', '380021', '380023', '380024', '380026', '380027', '380028', '380043', '380051', '380052', '380054', '380055', '380058', '380059', '380061', '380063', '382006', '382007', '382009', '382110', '382210', '382325', '382345', '382350', '382405', '382418', '382421', '382424', '382440', '382445', '382475', '382480', '382481']\n"
     ]
    }
   ],
   "source": [
    "print(sorted(correct_postal_code_set))"
   ]
  },
  {
   "cell_type": "code",
   "execution_count": 140,
   "metadata": {
    "collapsed": false
   },
   "outputs": [
    {
     "data": {
      "text/plain": [
       "{'3', '33026', '3800013'}"
      ]
     },
     "execution_count": 140,
     "metadata": {},
     "output_type": "execute_result"
    }
   ],
   "source": [
    "incorrect_postal_code_set"
   ]
  }
 ],
 "metadata": {
  "kernelspec": {
   "display_name": "Python 3",
   "language": "python",
   "name": "python3"
  },
  "language_info": {
   "codemirror_mode": {
    "name": "ipython",
    "version": 3
   },
   "file_extension": ".py",
   "mimetype": "text/x-python",
   "name": "python",
   "nbconvert_exporter": "python",
   "pygments_lexer": "ipython3",
   "version": "3.6.0"
  }
 },
 "nbformat": 4,
 "nbformat_minor": 2
}
