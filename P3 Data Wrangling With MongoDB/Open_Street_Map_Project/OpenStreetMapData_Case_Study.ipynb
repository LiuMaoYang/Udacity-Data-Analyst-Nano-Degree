{
 "cells": [
  {
   "cell_type": "markdown",
   "metadata": {},
   "source": [
    "# OpenStreetMapData Case Study"
   ]
  },
  {
   "cell_type": "markdown",
   "metadata": {},
   "source": [
    "**Author : Chaitanya Madala **"
   ]
  },
  {
   "cell_type": "markdown",
   "metadata": {},
   "source": [
    "**Date : May 15, 2016 **"
   ]
  },
  {
   "cell_type": "markdown",
   "metadata": {},
   "source": [
    "## Map Area\n",
    "\n",
    "[Ahemdabad, Gujarat, India](https://en.wikipedia.org/wiki/Ahmedabad)\n",
    "\n",
    "[DataSet](https://mapzen.com/data/metro-extracts/metro/ahmedabad_india/) : This Dataset which is extracted from website openstreetmap contains information about the city Ahemdabad, India"
   ]
  },
  {
   "cell_type": "markdown",
   "metadata": {},
   "source": [
    "## Data Auditing\n",
    "- As part of data auditing plan lets find out what are the different types of tags present in our data set, but also how many, to get the feeling on how much of which data we can expect to have in the map.\n",
    "\n",
    "- Below are required imports which will be used throught the project."
   ]
  },
  {
   "cell_type": "code",
   "execution_count": 11,
   "metadata": {
    "collapsed": true
   },
   "outputs": [],
   "source": [
    "import xml.etree.cElementTree as ET\n",
    "import pprint"
   ]
  },
  {
   "cell_type": "code",
   "execution_count": 13,
   "metadata": {
    "collapsed": false,
    "scrolled": true
   },
   "outputs": [
    {
     "name": "stdout",
     "output_type": "stream",
     "text": [
      "{'bounds': 1,\n",
      " 'member': 2291,\n",
      " 'nd': 634041,\n",
      " 'node': 546085,\n",
      " 'osm': 1,\n",
      " 'relation': 511,\n",
      " 'tag': 98131,\n",
      " 'way': 81271}\n"
     ]
    }
   ],
   "source": [
    "def count_tags(filename): \n",
    "   \n",
    "    '''This function is written to count no of \n",
    "       different tags present in the given dataset'''\n",
    "    \n",
    "    dict_tags = {}\n",
    "    for event,element in ET.iterparse(filename):\n",
    "        tag = element.tag\n",
    "        if tag in dict_tags:\n",
    "            dict_tags[tag] += 1\n",
    "        else:\n",
    "            dict_tags[tag] = 1\n",
    "            \n",
    "    return dict_tags\n",
    "\n",
    "tags = count_tags('ahmedabad_india1.osm')\n",
    "pprint.pprint(tags)"
   ]
  }
 ],
 "metadata": {
  "kernelspec": {
   "display_name": "Python 3",
   "language": "python",
   "name": "python3"
  },
  "language_info": {
   "codemirror_mode": {
    "name": "ipython",
    "version": 3
   },
   "file_extension": ".py",
   "mimetype": "text/x-python",
   "name": "python",
   "nbconvert_exporter": "python",
   "pygments_lexer": "ipython3",
   "version": "3.6.0"
  }
 },
 "nbformat": 4,
 "nbformat_minor": 2
}
