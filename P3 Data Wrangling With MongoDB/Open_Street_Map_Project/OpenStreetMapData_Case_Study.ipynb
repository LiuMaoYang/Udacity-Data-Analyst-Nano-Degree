{
 "cells": [
  {
   "cell_type": "markdown",
   "metadata": {},
   "source": [
    "# OpenStreetMapData Case Study"
   ]
  },
  {
   "cell_type": "markdown",
   "metadata": {},
   "source": [
    "**Author : Chaitanya Madala **"
   ]
  },
  {
   "cell_type": "markdown",
   "metadata": {},
   "source": [
    "**Date : May 15, 2016 **"
   ]
  },
  {
   "cell_type": "markdown",
   "metadata": {},
   "source": [
    "## Map Area\n",
    "\n",
    "[Ahmedabad, Gujarat, India](https://en.wikipedia.org/wiki/Ahmedabad)\n",
    "\n",
    "[DataSet](https://mapzen.com/data/metro-extracts/metro/ahmedabad_india/) : This Dataset which is extracted from website openstreetmap contains information about the city Ahmedabad, India"
   ]
  },
  {
   "cell_type": "markdown",
   "metadata": {},
   "source": [
    "## Data Auditing\n",
    "- As part of data auditing plan lets find out what are the different types of tags present in our data set, but also how many, to get the feeling on how much of which data we can expect to have in the map.\n",
    "\n",
    "- Below are required imports and constants which will be used throught the project."
   ]
  },
  {
   "cell_type": "code",
   "execution_count": 104,
   "metadata": {
    "collapsed": true
   },
   "outputs": [],
   "source": [
    "import xml.etree.cElementTree as ET\n",
    "from collections import defaultdict\n",
    "import pymongo\n",
    "import subprocess\n",
    "import pprint\n",
    "import codecs\n",
    "import json\n",
    "import re\n",
    "import os\n",
    "\n",
    "INPUT_FILENAME = 'ahmedabad_india1.osm'"
   ]
  },
  {
   "cell_type": "code",
   "execution_count": 3,
   "metadata": {
    "collapsed": false,
    "scrolled": true
   },
   "outputs": [
    {
     "name": "stdout",
     "output_type": "stream",
     "text": [
      "{'bounds': 1, 'tag': 98131, 'node': 546085, 'nd': 634041, 'way': 81271, 'member': 2291, 'relation': 511, 'osm': 1}\n"
     ]
    }
   ],
   "source": [
    "def count_tags(filename): \n",
    "   \n",
    "    '''This function is written to count no of \n",
    "       different tags present in the given dataset'''\n",
    "    \n",
    "    dict_tags = {}\n",
    "    for event,element in ET.iterparse(filename):\n",
    "        tag = element.tag\n",
    "        if tag in dict_tags:\n",
    "            dict_tags[tag] += 1\n",
    "        else:\n",
    "            dict_tags[tag] = 1\n",
    "            \n",
    "    return dict_tags\n",
    "\n",
    "tags = count_tags(INPUT_FILENAME)\n",
    "print(tags)"
   ]
  },
  {
   "cell_type": "markdown",
   "metadata": {},
   "source": [
    "- Now lets find out how many different users contributed to this Ahemdabad openstreetmap dataset. "
   ]
  },
  {
   "cell_type": "code",
   "execution_count": 4,
   "metadata": {
    "collapsed": false
   },
   "outputs": [
    {
     "name": "stdout",
     "output_type": "stream",
     "text": [
      "Number of users contributed:  354\n"
     ]
    }
   ],
   "source": [
    "def count_users(filename):\n",
    "    \n",
    "    '''This function is written to countthe number of distinct \n",
    "    users who contributed to the Ahemdabad Openstreetmap data'''\n",
    "    \n",
    "    users_set = set()\n",
    "    for event,element in ET.iterparse(filename):\n",
    "        tag = element.tag\n",
    "        if tag == 'node' or tag == 'relation' or tag == 'way':\n",
    "             users_set.add(element.attrib['user'])\n",
    "        element.clear()        \n",
    "    return users_set\n",
    "\n",
    "users = count_users(INPUT_FILENAME)\n",
    "print('Number of users contributed: ',len(users))"
   ]
  },
  {
   "cell_type": "markdown",
   "metadata": {},
   "source": [
    "- Before we procees the data and add it into our database, we should check \"k\" value for each tag and see if there are any potential problems"
   ]
  },
  {
   "cell_type": "code",
   "execution_count": 5,
   "metadata": {
    "collapsed": false
   },
   "outputs": [
    {
     "data": {
      "text/plain": [
       "{'lower': 96127, 'lower_colon': 1962, 'other': 35, 'problemchars': 7}"
      ]
     },
     "execution_count": 5,
     "metadata": {},
     "output_type": "execute_result"
    }
   ],
   "source": [
    "lower = re.compile(r'^([a-z]|_)*$')\n",
    "lower_colon = re.compile(r'^([a-z]|_)*:([a-z]|_)*$')\n",
    "problemchars = re.compile(r'[=\\+/&<>();\\'\"?%#$@\\,\\. \\t\\r\\n]')\n",
    "\n",
    "problem_chars_set = set()\n",
    "others_set = set()\n",
    "\n",
    "def key_type(element, keys):\n",
    "    '''This function is defined to categorize different \"k\" values'''\n",
    "    if element.tag == \"tag\":\n",
    "        tag_k_value = element.attrib['k']\n",
    "        match_lower = re.search(lower,tag_k_value)\n",
    "        match_lower_colon = re.search(lower_colon,tag_k_value)\n",
    "        match_problemchars  = re.search(problemchars,tag_k_value)\n",
    "        \n",
    "        if match_lower :\n",
    "            keys['lower'] += 1     \n",
    "        elif match_lower_colon :\n",
    "            keys['lower_colon'] += 1            \n",
    "        elif match_problemchars:\n",
    "            keys['problemchars'] += 1\n",
    "            problem_chars_set.add(tag_k_value)\n",
    "        else :\n",
    "            keys['other'] += 1\n",
    "            others_set.add(tag_k_value)\n",
    "            \n",
    "    return keys\n",
    "\n",
    "def process_tags(filename):\n",
    "    keys = {\"lower\": 0, \"lower_colon\": 0, \"problemchars\": 0, \"other\": 0}\n",
    "    for event,element in ET.iterparse(filename):\n",
    "        keys = key_type(element, keys)\n",
    "\n",
    "    return keys\n",
    "\n",
    "process_tags(INPUT_FILENAME)"
   ]
  },
  {
   "cell_type": "markdown",
   "metadata": {
    "collapsed": false
   },
   "source": [
    "- The above data shows that there are 35 other category tags and 7 problem char tags. Now lets take a look at these problemchars tags and other category tags to identify those tags, which might be useful for database insertion."
   ]
  },
  {
   "cell_type": "code",
   "execution_count": 6,
   "metadata": {
    "collapsed": false
   },
   "outputs": [
    {
     "name": "stdout",
     "output_type": "stream",
     "text": [
      "{'average rate/kg', 'famous for'}\n"
     ]
    }
   ],
   "source": [
    "print(problem_chars_set)"
   ]
  },
  {
   "cell_type": "code",
   "execution_count": 7,
   "metadata": {
    "collapsed": false
   },
   "outputs": [
    {
     "name": "stdout",
     "output_type": "stream",
     "text": [
      "{'fuel:octane_91', 'IR:zone', 'currency:INR', 'plant:output:electricity', 'name_1', 'is_in:iso_3166_2', 'source_2', 'fuel:octane_80', 'AND_a_nosr_p', 'AND_a_c', 'fuel:octane_92', 'FID_1', 'mtb:scale:imba', 'Business', 'FIXME', 'naptan:CommonName', 'name_2', 'mtb:scale:uphill', 'source_1'}\n"
     ]
    }
   ],
   "source": [
    "print(others_set)"
   ]
  },
  {
   "cell_type": "markdown",
   "metadata": {},
   "source": [
    "- From the above listed tags, we can discard all of them except for \"famous for\" tag, as it has some meaningfull data associated with it i.e, it has the value of famous dish of that particular place or resturant. \n",
    "\n",
    "- Now lets find out what all different \"k\" values are present in the data set."
   ]
  },
  {
   "cell_type": "code",
   "execution_count": 8,
   "metadata": {
    "collapsed": false
   },
   "outputs": [
    {
     "name": "stdout",
     "output_type": "stream",
     "text": [
      "Length of k values dictionary:  203\n"
     ]
    }
   ],
   "source": [
    "def process_tags_k_val(filename):\n",
    "    '''This function is written to find out \n",
    "    different k values present in dataset'''\n",
    "    tags_k_values_dict = {}\n",
    "    final_list = list(others_set) + list(problem_chars_set)\n",
    "    for event,element in ET.iterparse(filename):\n",
    "        if element.tag == 'tag' :\n",
    "            tag_k = element.attrib['k']\n",
    "            if tag_k not in final_list:\n",
    "                if tag_k not in tags_k_values_dict:\n",
    "                    tags_k_values_dict[tag_k] = 1\n",
    "                else :\n",
    "                    tags_k_values_dict[tag_k] += 1\n",
    "                \n",
    "    return tags_k_values_dict\n",
    "\n",
    "tags = process_tags_k_val(INPUT_FILENAME)\n",
    "print(\"Length of k values dictionary: \",len(tags))"
   ]
  },
  {
   "cell_type": "markdown",
   "metadata": {},
   "source": [
    "- As the length of dictionary is 203, the output will be huge, So I writing it to a external file called **\"tags.txt\" **."
   ]
  },
  {
   "cell_type": "code",
   "execution_count": 9,
   "metadata": {
    "collapsed": false
   },
   "outputs": [],
   "source": [
    "def output_data(lst,func=None,filename=None):\n",
    "    '''This function is written to write output \n",
    "    data to file or show it on console'''\n",
    "    if filename != None:\n",
    "        with open(filename,'w',encoding=\"utf-8\") as f:\n",
    "            if func != None:\n",
    "                for val in lst:\n",
    "                    f.write(\"{0} ----> {1}\\n\".format(val,func(val)))\n",
    "            else:\n",
    "                if type(lst) == type({}):\n",
    "                    for val in sorted(lst.keys()):\n",
    "                        f.write(\"{0} ----> {1}\\n\".format(val,lst[val]))\n",
    "                else:   \n",
    "                    for val in lst:\n",
    "                        f.write(\"{0}\\n\".format(val))\n",
    "    else : \n",
    "        if func != None:\n",
    "            for val in lst:\n",
    "                print(\"{0} ----> {1}\".format(val,func(val)))\n",
    "        else :\n",
    "            for val in lst:\n",
    "                print(\"{0}\".format(val))    "
   ]
  },
  {
   "cell_type": "code",
   "execution_count": 10,
   "metadata": {
    "collapsed": false
   },
   "outputs": [],
   "source": [
    "output_data(tags,filename=\"tags.txt\")            "
   ]
  },
  {
   "cell_type": "markdown",
   "metadata": {},
   "source": [
    "- Now lets take a look at different postal codes present in the dataset to validate them against correct format of Ahemdabad postal codes.\n",
    "- This [[website]](http://www.mapsofindia.com/pincode/india/gujarat/ahmedabad/) lists out all the available postal codes of Ahemdabad, whcih are of the format **(38\\*\\*\\*\\*)** and are 6 digits in length.\n",
    "- When we take a look at different \"k\" value tags present in \"tags.txt\", we find that postal codes are defined under **\"addr:postcode\",\"postal_code\"**.   "
   ]
  },
  {
   "cell_type": "code",
   "execution_count": 11,
   "metadata": {
    "collapsed": false
   },
   "outputs": [],
   "source": [
    "correct_postal_code_set = set()\n",
    "incorrect_postal_code_set = set()\n",
    "\n",
    "def validate_postal_code(code):\n",
    "    '''This function is written to validate \n",
    "    postal code aganist regular expression'''\n",
    "    validate_postal_code = re.compile(r'^38(\\d{4})$') #regular expression to validate postal codes.\n",
    "    match = re.search(validate_postal_code,code)\n",
    "    return match\n",
    "    \n",
    "def process_postal_codes(filename):\n",
    "    for event,element in ET.iterparse(filename):\n",
    "        if element.tag == 'tag':\n",
    "            tag_k = element.attrib['k']\n",
    "            if tag_k in ['addr:postcode','postal_code']:\n",
    "                tag_v = element.attrib['v'].replace(' ','')\n",
    "                \n",
    "                match = validate_postal_code(tag_v)\n",
    "                if match :\n",
    "                    correct_postal_code_set.add(tag_v)\n",
    "                else:\n",
    "                    incorrect_postal_code_set.add(tag_v)\n",
    "                                        \n",
    "process_postal_codes(INPUT_FILENAME)                        "
   ]
  },
  {
   "cell_type": "code",
   "execution_count": 12,
   "metadata": {
    "collapsed": false
   },
   "outputs": [
    {
     "name": "stdout",
     "output_type": "stream",
     "text": [
      "['380001', '380003', '380004', '380005', '380006', '380007', '380008', '380009', '380013', '380014', '380015', '380021', '380023', '380024', '380026', '380027', '380028', '380043', '380051', '380052', '380054', '380055', '380058', '380059', '380061', '380063', '382006', '382007', '382009', '382110', '382210', '382325', '382345', '382350', '382405', '382418', '382421', '382424', '382440', '382445', '382475', '382480', '382481']\n"
     ]
    }
   ],
   "source": [
    "print(sorted(correct_postal_code_set))"
   ]
  },
  {
   "cell_type": "code",
   "execution_count": 13,
   "metadata": {
    "collapsed": false
   },
   "outputs": [
    {
     "data": {
      "text/plain": [
       "{'3', '33026', '3800013'}"
      ]
     },
     "execution_count": 13,
     "metadata": {},
     "output_type": "execute_result"
    }
   ],
   "source": [
    "incorrect_postal_code_set"
   ]
  },
  {
   "cell_type": "markdown",
   "metadata": {},
   "source": [
    "- Almost all the postal codes the satisfy the regular expression, we assumed, except the above listed 3 postal codes. We might need to exempt them from database insertion as they are incorrect and doesn't have the correct format.\n",
    "\n",
    "- Now lets take a look at values present in **\"addr:city\"** tag, to check whether city name has been mentioned correctly in every city tag. "
   ]
  },
  {
   "cell_type": "code",
   "execution_count": 14,
   "metadata": {
    "collapsed": false
   },
   "outputs": [
    {
     "name": "stdout",
     "output_type": "stream",
     "text": [
      "['AHEMEDABAD', 'AHMEDABAD', 'Adalaj', 'Adalaj, Gandhinagar', 'Ahemdabad', 'Ahemedabad', 'Ahmadabad', 'Ahmedabad', 'Ahmedabad, Gujarat. India', 'Ahmedabad, Prahladnagar', 'Gandhinagar', 'Khodiyar', 'Koteshwar ,Ahmedabad', 'Maninagar', 'Naroda', 'Naroda road', 'Nava naroda', 'Nr.Vatva GIDC', 'Pembroke Pines', 'Ranip', 'Thaltej', 'ahmedabad', 'kOTARPUR ,Ahemedabad', 'medabad', 'ramdevnagar', 'ranip', 'sanand', 'अहमदाबाद, गुजरात']\n"
     ]
    }
   ],
   "source": [
    "def process_tags(filename,par_tag):\n",
    "    '''This function is written to process tags with specific \"k\" value.'''\n",
    "    tag_data_set = set()\n",
    "    for event,element in ET.iterparse(filename):\n",
    "        if element.tag == \"tag\":\n",
    "            tag_k = element.attrib['k']\n",
    "            if tag_k == par_tag:\n",
    "                tag_data_set.add(element.attrib['v'])\n",
    "    return tag_data_set\n",
    "                    \n",
    "city_names = sorted(process_tags(INPUT_FILENAME,\"addr:city\"))\n",
    "print(city_names)"
   ]
  },
  {
   "cell_type": "markdown",
   "metadata": {},
   "source": [
    "- The observations that can be drawn from the above listed city name are:\n",
    "  1. **\"Ahmedabad\"** is mispelled in various forms like **[\"AHEMEDABAD\", \"Ahemedabad\", \"Ahemdabad\", \"Ahmadabad\"].**\n",
    "  2. Instead of directly mentioning the city name, it is mentioned with either some local area or with state name like **[\"Ahmedabad,Gujarat. India\", \"Ahmedabad,Prahladnagar\", \"Koteshwar,Ahmedabad\", \"kOTARPUR,Ahemedabad\"].**\n",
    "  3. Instead of mentioning the city name, some local area is mention in city tag like **[\"Khodiyar\",\"Maninagar\",\"Naroda\",\"Naroda road\",\"Nava naroda\",\"Nr.Vatva GIDC\",\"Pembroke Pines\",\"Ranip\",\"medabad\",\"ramdevnagar\"].**\n",
    "  4. City name is mentioned in local language **Hindi** like **[\"अहमदाबाद, गुजरात\"].**\n",
    "  5. As Ahmedabad is situated near by Gandhinagar, some of the city tags has city value as **[\"Gandhinagar\", \"Adalaj, Gandhinagar\", \"Adalaj\"].** \n",
    "  \n",
    "- Now lets write a function that would written correct value of city which would be useful for processing city names at time of database insertion."
   ]
  },
  {
   "cell_type": "code",
   "execution_count": 15,
   "metadata": {
    "collapsed": false
   },
   "outputs": [],
   "source": [
    "def rectify_city_name(city_name):\n",
    "    '''This function is written to rectify a given city name'''\n",
    "    validate_city_ahmedabad = re.compile(r'Ah(.)*daba(d|d\\,)',re.IGNORECASE)\n",
    "    validate_city_gandhinagar = re.compile(r'(gandhinaga(r|r\\,))|(Adalaj)',re.IGNORECASE)\n",
    "    result = None\n",
    "    if re.search(validate_city_ahmedabad,city_name):\n",
    "        result = \"Ahmedabad\"\n",
    "    elif re.search(validate_city_gandhinagar,city_name):\n",
    "        result = \"Gandhinagar\"\n",
    "    else :\n",
    "        result = \"Ahmedabad\"\n",
    "     \n",
    "    return result"
   ]
  },
  {
   "cell_type": "code",
   "execution_count": 16,
   "metadata": {
    "collapsed": false
   },
   "outputs": [
    {
     "name": "stdout",
     "output_type": "stream",
     "text": [
      "AHEMEDABAD ----> Ahmedabad\n",
      "AHMEDABAD ----> Ahmedabad\n",
      "Adalaj ----> Gandhinagar\n",
      "Adalaj, Gandhinagar ----> Gandhinagar\n",
      "Ahemdabad ----> Ahmedabad\n",
      "Ahemedabad ----> Ahmedabad\n",
      "Ahmadabad ----> Ahmedabad\n",
      "Ahmedabad ----> Ahmedabad\n",
      "Ahmedabad, Gujarat. India ----> Ahmedabad\n",
      "Ahmedabad, Prahladnagar ----> Ahmedabad\n",
      "Gandhinagar ----> Gandhinagar\n",
      "Khodiyar ----> Ahmedabad\n",
      "Koteshwar ,Ahmedabad ----> Ahmedabad\n",
      "Maninagar ----> Ahmedabad\n",
      "Naroda ----> Ahmedabad\n",
      "Naroda road ----> Ahmedabad\n",
      "Nava naroda ----> Ahmedabad\n",
      "Nr.Vatva GIDC ----> Ahmedabad\n",
      "Pembroke Pines ----> Ahmedabad\n",
      "Ranip ----> Ahmedabad\n",
      "Thaltej ----> Ahmedabad\n",
      "ahmedabad ----> Ahmedabad\n",
      "kOTARPUR ,Ahemedabad ----> Ahmedabad\n",
      "medabad ----> Ahmedabad\n",
      "ramdevnagar ----> Ahmedabad\n",
      "ranip ----> Ahmedabad\n",
      "sanand ----> Ahmedabad\n",
      "अहमदाबाद, गुजरात ----> Ahmedabad\n"
     ]
    }
   ],
   "source": [
    "output_data(city_names,func=rectify_city_name)"
   ]
  },
  {
   "cell_type": "markdown",
   "metadata": {},
   "source": [
    "- Now lets take look at values present in **\"phone\"** tag to check whether they are correct format or not"
   ]
  },
  {
   "cell_type": "code",
   "execution_count": 17,
   "metadata": {
    "collapsed": false
   },
   "outputs": [
    {
     "name": "stdout",
     "output_type": "stream",
     "text": [
      "{'91-79-26401554', '+91 79 2657 7621', '+91 79 29705588', '+91 94262 84715', '+919099958936', '+919375565533', '(079)39830036/37', '+919879566257', '+917922864345', '07927641100', '+9179 2657 8369', '7926620059', '+917801949128', '079 26920057', '093270 38242', '+91 79 6651 5151', '07922912990', '07925500007', '07926582130', '07965422223', '915752790', '+91 79 30912345', '917926314000', '079 4050 5050', '079 6619 0201', '+917922167530', '+91 79 2657 5741', '7096805450', '+91 79 25556767', '(+91-79) 4032-7226', '07922720605', '09016861000', '+91 8758637922', '9375776800', '+917927472043', '+91 79 2589 4542 / +91 9429207992', '+91 99-98-264810', '+91 79 3983 0100 ', '099099 22239', '+91 79 2550 7181', '+91 79 2646 6464', '+91 79 2656 5222', '+91793013 0200', '+91 9054876866', '9909005694', '+917965469992', '+91 79 6190 0500/05/06/07/08/09', '+91 93776 19151', '07926306752', '+91-9978113275 ; +91-8390740897', '+917927506819', '07926304000', '855-553-4767', '+917923224006', '+91 98250 41132', '+91 98981 37147', '079 2687 2386', '+917927550875', '+917922700585', '0792740 0228'}\n"
     ]
    }
   ],
   "source": [
    "phone_numbers = process_tags(INPUT_FILENAME,\"phone\")\n",
    "print(phone_numbers)"
   ]
  },
  {
   "cell_type": "markdown",
   "metadata": {},
   "source": [
    "- The observations that can be drawn from the above list phone numbers are:\n",
    "  1. Some of the phone numbers are starting with coutry code **\"+91\" or 91** like **+91 79 2550 7181, \"917926314000\" .**\n",
    "  2. some of the phone numbers are starting with **Zero** like **\"079 6619 0201\".**\n",
    "  3. Some numbers are having Parentheses in them like **\"(+91-79) 4032-7226\".** \n",
    "  4. Some numbers are standered **ten digit** phone numbers like **\"7926620059\".**\n",
    "  5. Some places have multiple phone numbers like **\"+91 79 6190 0500/05/06/07/08/09\".**\n",
    "  6. Some numbers are having incorrect format like **\"915752790\".**\n",
    "  \n",
    "- Now lets write a function to convert all the phone numbers to **standard format** like **\"+91 88 7777 6666\"**  "
   ]
  },
  {
   "cell_type": "code",
   "execution_count": 18,
   "metadata": {
    "collapsed": true
   },
   "outputs": [],
   "source": [
    "def rectify_phone_number(phone_number):\n",
    "    '''This function is written to rectify a given phone number'''\n",
    "    detect_multiple = re.compile(r'[/;]')\n",
    "    match = re.search(detect_multiple,phone_number)\n",
    "    num_lst = []\n",
    "    rectified_lst = []\n",
    "    if len(phone_number) < 10:\n",
    "        return \"Invalid Phone Number\"\n",
    "    else:\n",
    "        if match:\n",
    "            num_lst = convert_to_lst(phone_number,match.group())\n",
    "        else:   \n",
    "            num_lst = [phone_number]\n",
    "        \n",
    "        rectified_lst = validate_and_remove_problem_chars(num_lst)\n",
    "        \n",
    "        if len(rectified_lst) == 1:\n",
    "            return rectified_lst[0]\n",
    "        else:\n",
    "            return rectified_lst\n"
   ]
  },
  {
   "cell_type": "code",
   "execution_count": 19,
   "metadata": {
    "collapsed": true
   },
   "outputs": [],
   "source": [
    "def convert_to_lst(phone_number,split_val):\n",
    "    '''This function is written to handle \n",
    "    multiple phone numbers scenario'''\n",
    "    num_lst = phone_number.split(split_val)\n",
    "    nw_lst = []\n",
    "    nw_lst.append(num_lst[0])\n",
    "    for i in range(1,len(num_lst)):\n",
    "        if len(num_lst[i]) < 10:\n",
    "            new_num = num_lst[0][:len(num_lst[0])-len(num_lst[i])] + num_lst[i]\n",
    "            nw_lst.append(new_num)\n",
    "        else:\n",
    "            nw_lst.append(num_lst[i])\n",
    "    \n",
    "    return nw_lst"
   ]
  },
  {
   "cell_type": "code",
   "execution_count": 20,
   "metadata": {
    "collapsed": true
   },
   "outputs": [],
   "source": [
    "def validate_and_remove_problem_chars(num_lst):\n",
    "    '''This function is written to validate a \n",
    "    given phone number aganist standard format'''\n",
    "    correct_format = re.compile(r'^(\\+91) \\d{2} \\d{4} \\d{4}')\n",
    "    new_lst = []\n",
    "    for number in num_lst:\n",
    "        match = re.search(correct_format,number)\n",
    "        if match :\n",
    "            new_lst.append(number)\n",
    "        else : \n",
    "            new_number = change_to_standard_format(number)\n",
    "            new_lst.append(new_number)\n",
    "    \n",
    "    return new_lst "
   ]
  },
  {
   "cell_type": "code",
   "execution_count": 21,
   "metadata": {
    "collapsed": true
   },
   "outputs": [],
   "source": [
    "def change_to_standard_format(phone_number):\n",
    "    '''This function is written to convert a given phone number to standard format'''\n",
    "    new_number = phone_number.replace('(','').replace(')','').replace('-','').replace(' ','')\n",
    "    if new_number.startswith('+91'):\n",
    "        new_number = '+91 ' + new_number[3:5] + ' ' + new_number[5:9] + ' ' +new_number[9:14]\n",
    "    elif new_number.startswith('91'):\n",
    "        new_number = '+91 ' + new_number[2:4] + ' ' + new_number[4:8] + ' ' +new_number[8:13]\n",
    "    elif new_number.startswith('0'):\n",
    "        new_number = '+91 ' + new_number[1:3] + ' ' + new_number[3:7] + ' ' +new_number[7:12]\n",
    "    else:\n",
    "        new_number = '+91 ' + new_number[:2] + ' ' + new_number[2:6] + ' ' +new_number[6:11]\n",
    "    return new_number          "
   ]
  },
  {
   "cell_type": "markdown",
   "metadata": {},
   "source": [
    "- As output is large, I am writing it to an external file **\"correct_ph_numbers.txt\".** "
   ]
  },
  {
   "cell_type": "code",
   "execution_count": 22,
   "metadata": {
    "collapsed": false
   },
   "outputs": [],
   "source": [
    "output_data(phone_numbers,rectify_phone_number,\"correct_ph_numbers.txt\")    "
   ]
  },
  {
   "cell_type": "markdown",
   "metadata": {},
   "source": [
    "- Now lets audit what are the different street names present in the dataset."
   ]
  },
  {
   "cell_type": "code",
   "execution_count": 23,
   "metadata": {
    "collapsed": false
   },
   "outputs": [],
   "source": [
    "street_names = process_tags(INPUT_FILENAME,\"addr:street\")\n",
    "output_data(street_names,filename=\"street_names.txt\")    "
   ]
  },
  {
   "cell_type": "markdown",
   "metadata": {},
   "source": [
    "- The observations that can be drawn from street data are :\n",
    "  1. Most of the street names are either ending with word **road or marg** which are in correct format.\n",
    "  2. Few street names are in incorrect format i.e, they are having city, country name in them for eg.**\"Uttamnagar, Ahmedabad\".**\n",
    "  3. One of the Street names is mentioned in local language **\"Hindi\"** like **\"एरपोर्ट रोड\"**.\n",
    "  4. Some of the street names are in lower case letters, some of them are in upper case.\n",
    "  \n",
    "- Now lets write a function that would process a given street name and convert it into a standard format.\n",
    "- Lets create a dictionary that would contain incorrect names as keys and correct names as values, if a given street name is  found in that dictionary, we will return the correct value , else will return the given street name in standard format."
   ]
  },
  {
   "cell_type": "code",
   "execution_count": 24,
   "metadata": {
    "collapsed": false
   },
   "outputs": [],
   "source": [
    "def rectify_street_name(street_name):\n",
    "    incorrect_names = {'एरपोर्ट रोड': 'Airport Road'}\n",
    "    if street_name in incorrect_names:\n",
    "        return incorrect_names[street_name]\n",
    "    else:\n",
    "        new_street_name = street_name.lower().strip(' ')        \n",
    "        if new_street_name.endswith('ahmedabad'):\n",
    "            new_street_name = new_street_name.replace('ahmedabad','').replace(',','')\n",
    "        elif new_street_name.endswith('gujarat, india'):\n",
    "            new_street_name = new_street_name.replace('gujarat, india','').replace(',','')  \n",
    "        return new_street_name.title()"
   ]
  },
  {
   "cell_type": "markdown",
   "metadata": {},
   "source": [
    "- As output will be large, I am writing it to an external file **\"correct_street_names.txt\".**"
   ]
  },
  {
   "cell_type": "code",
   "execution_count": 25,
   "metadata": {
    "collapsed": true
   },
   "outputs": [],
   "source": [
    "output_data(street_names,rectify_street_name,\"correct_street_names.txt\")  "
   ]
  },
  {
   "cell_type": "markdown",
   "metadata": {},
   "source": [
    "- Now lets write a function that will convert the xml dataset to json documents, which can be later be inserted to mongoDB."
   ]
  },
  {
   "cell_type": "code",
   "execution_count": 87,
   "metadata": {
    "collapsed": false
   },
   "outputs": [],
   "source": [
    "CREATED = [ \"version\", \"changeset\", \"timestamp\", \"user\", \"uid\"]\n",
    "EXPECTED = [\"amenity\",\"cuisine\",\"name\",\"phone\",\"religion\",\"atm\"]\n",
    "def create_element(element):\n",
    "    '''This function is written to convert each xml tag to a json document'''\n",
    "    \n",
    "    node = {}\n",
    "    if element.tag == \"node\" or element.tag == \"way\" :\n",
    "        # YOUR CODE HERE\n",
    "        created_dict = {}\n",
    "        attributes = element.attrib\n",
    "        pos = []\n",
    "        for k,v in attributes.items():\n",
    "            if k in CREATED :\n",
    "                created_dict[k] = v\n",
    "            else:\n",
    "                if k not in [\"lat\",\"lon\"]:\n",
    "                    node[k] = v\n",
    "        node[\"type\"] = element.tag\n",
    "        \n",
    "        if \"lat\" in attributes and \"lon\" in attributes:\n",
    "            node[\"pos\"] = [float(attributes[\"lat\"]),float(attributes[\"lon\"])]     \n",
    "        node[\"created\"] = created_dict \n",
    "        \n",
    "        node_refs = []\n",
    "        address = {}\n",
    "        \n",
    "        for elem in element.iter('nd'):\n",
    "            node_refs.append(elem.attrib[\"ref\"])\n",
    "            \n",
    "        for elem in element.iter('tag'):\n",
    "            tag_k = elem.attrib['k']\n",
    "            tag_v = elem.attrib['v']\n",
    "\n",
    "            \n",
    "            if tag_k == \"postal_code\":\n",
    "                tag_k = \"addr:postcode\"\n",
    "                \n",
    "                \n",
    "            \n",
    "            if tag_k.startswith('addr:') and  tag_k.count(':') == 1:\n",
    "                \n",
    "                if tag_k == \"addr:postcode\" and tag_v not in correct_postal_code_set:\n",
    "                    tag_v = None\n",
    "                \n",
    "                elif tag_k == \"addr:city\" :\n",
    "                    tag_v = rectify_city_name(tag_v)\n",
    "                 \n",
    "                elif tag_k == \"addr:street\":\n",
    "                    tag_v = rectify_street_name(tag_v)\n",
    "                \n",
    "                \n",
    "                if tag_v != None:\n",
    "                    address[tag_k.split(':')[1]] = tag_v\n",
    "                \n",
    "            elif tag_k in EXPECTED:\n",
    "                \n",
    "                if tag_k == \"phone\":\n",
    "                    tag_v = rectify_phone_number(tag_v)\n",
    "                    if tag_v == \"Invalid Phone Number\":\n",
    "                        tag_v = None\n",
    "                \n",
    "                if tag_v != None:            \n",
    "                    node[tag_k] = tag_v\n",
    "                                \n",
    "        if len(node_refs) !=0 :\n",
    "            node[\"node_refs\"] = node_refs\n",
    "            \n",
    "        if len(address) != 0:\n",
    "            node[\"address\"] = address\n",
    "    \n",
    "        \n",
    "        return node\n",
    "    else:\n",
    "        return None"
   ]
  },
  {
   "cell_type": "code",
   "execution_count": 88,
   "metadata": {
    "collapsed": true
   },
   "outputs": [],
   "source": [
    "def process_map(file_in, pretty = False):\n",
    "    '''This function is written to create json files'''\n",
    "    file_out = \"{0}.json\".format(file_in)\n",
    "    with codecs.open(file_out, \"w\") as fo:\n",
    "        for _, element in ET.iterparse(file_in):\n",
    "            el = create_element(element)\n",
    "            if el:\n",
    "                if pretty:\n",
    "                    fo.write(json.dumps(el, indent=2)+\"\\n\")\n",
    "                else:\n",
    "                    fo.write(json.dumps(el) + \"\\n\")"
   ]
  },
  {
   "cell_type": "code",
   "execution_count": 89,
   "metadata": {
    "collapsed": false
   },
   "outputs": [],
   "source": [
    "process_map(INPUT_FILENAME)"
   ]
  },
  {
   "cell_type": "code",
   "execution_count": 90,
   "metadata": {
    "collapsed": false
   },
   "outputs": [
    {
     "data": {
      "text/plain": [
       "0"
      ]
     },
     "execution_count": 90,
     "metadata": {},
     "output_type": "execute_result"
    }
   ],
   "source": [
    "client = MongoClient('localhost:27017')\n",
    "db_name = 'openstreetmap'\n",
    "collection_name = 'ahmedabadData'\n",
    "file_name = 'ahmedabad_india1.osm.json'\n",
    "\n",
    "db = client[db_name]\n",
    "ahmedabad_osm = db[collection_name]\n",
    "    \n",
    "if collection_name in db.collection_names():\n",
    "    ahmedabad_osm.drop()\n",
    "\n",
    "cmd = \"mongoimport --db \" + db_name +' --collection ' + collection_name + ' --file ' +   file_name\n",
    "subprocess.call(cmd)"
   ]
  },
  {
   "cell_type": "markdown",
   "metadata": {},
   "source": [
    "## Data Wrangling With DB and File Sizes\n",
    "\n",
    "### File sizes"
   ]
  },
  {
   "cell_type": "code",
   "execution_count": 91,
   "metadata": {
    "collapsed": false
   },
   "outputs": [
    {
     "name": "stdout",
     "output_type": "stream",
     "text": [
      "Size of the input file: 108.54 MB\n",
      "Size of the ouput Json file: 126.52 MB\n"
     ]
    }
   ],
   "source": [
    "def getSize(filename):\n",
    "    input_file_size_b = os.path.getsize(filename)\n",
    "    input_file_siz_mb = (input_file_size_b)/(1024*1024)\n",
    "    return round(input_file_siz_mb,2)\n",
    "\n",
    "print(\"Size of the input file: {0} MB\".format(getSize(INPUT_FILENAME)))\n",
    "print(\"Size of the ouput Json file: {0} MB\".format(getSize(\"ahmedabad_india1.osm.json\")))"
   ]
  },
  {
   "cell_type": "markdown",
   "metadata": {},
   "source": [
    "###  Number of records"
   ]
  },
  {
   "cell_type": "code",
   "execution_count": 92,
   "metadata": {
    "collapsed": false
   },
   "outputs": [
    {
     "name": "stdout",
     "output_type": "stream",
     "text": [
      "Total Number Of Records:  627356\n"
     ]
    }
   ],
   "source": [
    "total_records = ahmedabad_osm.find().count()\n",
    "print('Total Number Of Records: ',total_records)"
   ]
  },
  {
   "cell_type": "markdown",
   "metadata": {},
   "source": [
    "###  Number of nodes"
   ]
  },
  {
   "cell_type": "code",
   "execution_count": 93,
   "metadata": {
    "collapsed": false
   },
   "outputs": [
    {
     "name": "stdout",
     "output_type": "stream",
     "text": [
      "Number of nodes:  546085\n"
     ]
    }
   ],
   "source": [
    "total_nodes = ahmedabad_osm.find({\"type\":\"node\"}).count()\n",
    "print('Number of nodes: ',total_nodes)"
   ]
  },
  {
   "cell_type": "markdown",
   "metadata": {},
   "source": [
    "### Number of ways :"
   ]
  },
  {
   "cell_type": "code",
   "execution_count": 94,
   "metadata": {
    "collapsed": false
   },
   "outputs": [
    {
     "name": "stdout",
     "output_type": "stream",
     "text": [
      "Number of ways:  81271\n"
     ]
    }
   ],
   "source": [
    "total_nodes = ahmedabad_osm.find({\"type\":\"way\"}).count()\n",
    "print('Number of ways: ',total_nodes)"
   ]
  },
  {
   "cell_type": "markdown",
   "metadata": {},
   "source": [
    "###  Number of unique users"
   ]
  },
  {
   "cell_type": "code",
   "execution_count": 95,
   "metadata": {
    "collapsed": false
   },
   "outputs": [
    {
     "name": "stdout",
     "output_type": "stream",
     "text": [
      "Number of users contributed:  349\n"
     ]
    }
   ],
   "source": [
    "distinct_users = len(ahmedabad_osm.distinct('created.user'))\n",
    "print('Number of users contributed: ',distinct_users)"
   ]
  },
  {
   "cell_type": "markdown",
   "metadata": {},
   "source": [
    "### Top 3 users who contributed"
   ]
  },
  {
   "cell_type": "code",
   "execution_count": 96,
   "metadata": {
    "collapsed": false
   },
   "outputs": [
    {
     "name": "stdout",
     "output_type": "stream",
     "text": [
      "Total number of entries uday01 made : 177332\n",
      "Total number of entries sramesh made : 136709\n",
      "Total number of entries chaitanya110 made : 123138\n"
     ]
    }
   ],
   "source": [
    "top_three_users = ahmedabad_osm.aggregate([{\"$group\":{\"_id\":\"$created.user\",\n",
    "                                   \"count\":{\"$sum\":1}}},\n",
    "                        {\"$sort\":{\"count\":-1}},\n",
    "                        {\"$limit\":3}])\n",
    "\n",
    "for user in top_three_users:\n",
    "    print(\"Total number of entries {0} made : {1}\".format(user[\"_id\"],user[\"count\"]))"
   ]
  },
  {
   "cell_type": "markdown",
   "metadata": {
    "collapsed": false
   },
   "source": [
    "### Top 5 Amenities"
   ]
  },
  {
   "cell_type": "code",
   "execution_count": 97,
   "metadata": {
    "collapsed": false
   },
   "outputs": [
    {
     "name": "stdout",
     "output_type": "stream",
     "text": [
      "Total number of place_of_worship's Present : 92\n",
      "Total number of restaurant's Present : 59\n",
      "Total number of hospital's Present : 48\n",
      "Total number of school's Present : 43\n",
      "Total number of bank's Present : 33\n",
      "Total number of fuel's Present : 29\n",
      "Total number of college's Present : 28\n",
      "Total number of police's Present : 28\n",
      "Total number of atm's Present : 24\n",
      "Total number of fast_food's Present : 23\n"
     ]
    }
   ],
   "source": [
    "top_five_amenities = ahmedabad_osm.aggregate([{\"$match\":{\"amenity\":{\"$exists\":1}}},\n",
    "                                             {\"$group\":{\"_id\":\"$amenity\",\n",
    "                                                       \"count\":{\"$sum\":1}}},\n",
    "                                             {\"$sort\":{\"count\":-1}},\n",
    "                                             {\"$limit\":10}])\n",
    "\n",
    "for amenity in top_five_amenities:\n",
    "    print(\"Total number of {0}'s Present : {1}\".format(amenity[\"_id\"],amenity[\"count\"]))"
   ]
  },
  {
   "cell_type": "markdown",
   "metadata": {},
   "source": [
    "### Religions  "
   ]
  },
  {
   "cell_type": "code",
   "execution_count": 98,
   "metadata": {
    "collapsed": false
   },
   "outputs": [
    {
     "data": {
      "text/plain": [
       "['hindu', 'jain', 'christian', 'muslim', 'nonsectarian', 'zoroastrian']"
      ]
     },
     "execution_count": 98,
     "metadata": {},
     "output_type": "execute_result"
    }
   ],
   "source": [
    "ahmedabad_osm.distinct('religion')"
   ]
  },
  {
   "cell_type": "markdown",
   "metadata": {},
   "source": [
    "### Geospatial Indexing"
   ]
  },
  {
   "cell_type": "code",
   "execution_count": null,
   "metadata": {
    "collapsed": false
   },
   "outputs": [],
   "source": [
    "ahmedabad_osm.create_index([('pos',pymongo.GEO2D)])\n",
    "ahmedabad_osm.find({\"pos\":{\"$near\":[23.0945918,72.6119846]}}).count()"
   ]
  }
 ],
 "metadata": {
  "kernelspec": {
   "display_name": "Python 3",
   "language": "python",
   "name": "python3"
  },
  "language_info": {
   "codemirror_mode": {
    "name": "ipython",
    "version": 3
   },
   "file_extension": ".py",
   "mimetype": "text/x-python",
   "name": "python",
   "nbconvert_exporter": "python",
   "pygments_lexer": "ipython3",
   "version": "3.6.0"
  }
 },
 "nbformat": 4,
 "nbformat_minor": 2
}
