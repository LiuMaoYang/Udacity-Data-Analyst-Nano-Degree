{
 "cells": [
  {
   "cell_type": "markdown",
   "metadata": {},
   "source": [
    "# OpenStreetMapData Case Study"
   ]
  },
  {
   "cell_type": "markdown",
   "metadata": {},
   "source": [
    "**Author : Chaitanya Madala **"
   ]
  },
  {
   "cell_type": "markdown",
   "metadata": {},
   "source": [
    "**Date : May 15, 2016 **"
   ]
  },
  {
   "cell_type": "markdown",
   "metadata": {},
   "source": [
    "## Map Area\n",
    "\n",
    "[Ahmedabad, Gujarat, India](https://en.wikipedia.org/wiki/Ahmedabad)\n",
    "\n",
    "[DataSet](https://mapzen.com/data/metro-extracts/metro/ahmedabad_india/) : This Dataset which is extracted from website openstreetmap contains information about the city Ahmedabad, India"
   ]
  },
  {
   "cell_type": "markdown",
   "metadata": {},
   "source": [
    "## Data Auditing\n",
    "- As part of data auditing plan lets find out what are the different types of tags present in our data set, but also how many, to get the feeling on how much of which data we can expect to have in the map.\n",
    "\n",
    "- Below are required imports and constants which will be used throught the project."
   ]
  },
  {
   "cell_type": "code",
   "execution_count": 1,
   "metadata": {
    "collapsed": true
   },
   "outputs": [],
   "source": [
    "import xml.etree.cElementTree as ET\n",
    "from collections import defaultdict\n",
    "import pprint\n",
    "import codecs\n",
    "import json\n",
    "import re\n",
    "\n",
    "INPUT_FILENAME = 'ahmedabad_india1.osm'"
   ]
  },
  {
   "cell_type": "code",
   "execution_count": 2,
   "metadata": {
    "collapsed": false,
    "scrolled": true
   },
   "outputs": [
    {
     "name": "stdout",
     "output_type": "stream",
     "text": [
      "{'bounds': 1, 'tag': 98131, 'node': 546085, 'nd': 634041, 'way': 81271, 'member': 2291, 'relation': 511, 'osm': 1}\n"
     ]
    }
   ],
   "source": [
    "def count_tags(filename): \n",
    "   \n",
    "    '''This function is written to count no of \n",
    "       different tags present in the given dataset'''\n",
    "    \n",
    "    dict_tags = {}\n",
    "    for event,element in ET.iterparse(filename):\n",
    "        tag = element.tag\n",
    "        if tag in dict_tags:\n",
    "            dict_tags[tag] += 1\n",
    "        else:\n",
    "            dict_tags[tag] = 1\n",
    "            \n",
    "    return dict_tags\n",
    "\n",
    "tags = count_tags(INPUT_FILENAME)\n",
    "print(tags)"
   ]
  },
  {
   "cell_type": "markdown",
   "metadata": {},
   "source": [
    "- Now lets find out how many different users contributed to this Ahemdabad openstreetmap dataset. "
   ]
  },
  {
   "cell_type": "code",
   "execution_count": 3,
   "metadata": {
    "collapsed": false
   },
   "outputs": [
    {
     "name": "stdout",
     "output_type": "stream",
     "text": [
      "Number of users contributed:  354\n"
     ]
    }
   ],
   "source": [
    "def count_users(filename):\n",
    "    \n",
    "    '''This function is written to countthe number of distinct \n",
    "    users who contributed to the Ahemdabad Openstreetmap data'''\n",
    "    \n",
    "    users_set = set()\n",
    "    for event,element in ET.iterparse(filename):\n",
    "        tag = element.tag\n",
    "        if tag == 'node' or tag == 'relation' or tag == 'way':\n",
    "             users_set.add(element.attrib['user'])\n",
    "        element.clear()        \n",
    "    return users_set\n",
    "\n",
    "users = count_users(INPUT_FILENAME)\n",
    "print('Number of users contributed: ',len(users))"
   ]
  },
  {
   "cell_type": "markdown",
   "metadata": {},
   "source": [
    "- Before we procees the data and add it into our database, we should check \"k\" value for each tag and see if there are any potential problems"
   ]
  },
  {
   "cell_type": "code",
   "execution_count": 4,
   "metadata": {
    "collapsed": false
   },
   "outputs": [
    {
     "data": {
      "text/plain": [
       "{'lower': 96127, 'lower_colon': 1962, 'other': 35, 'problemchars': 7}"
      ]
     },
     "execution_count": 4,
     "metadata": {},
     "output_type": "execute_result"
    }
   ],
   "source": [
    "lower = re.compile(r'^([a-z]|_)*$')\n",
    "lower_colon = re.compile(r'^([a-z]|_)*:([a-z]|_)*$')\n",
    "problemchars = re.compile(r'[=\\+/&<>();\\'\"?%#$@\\,\\. \\t\\r\\n]')\n",
    "\n",
    "problem_chars_set = set()\n",
    "others_set = set()\n",
    "\n",
    "def key_type(element, keys):\n",
    "    '''This function is defined to categorize different \"k\" values'''\n",
    "    if element.tag == \"tag\":\n",
    "        tag_k_value = element.attrib['k']\n",
    "        match_lower = re.search(lower,tag_k_value)\n",
    "        match_lower_colon = re.search(lower_colon,tag_k_value)\n",
    "        match_problemchars  = re.search(problemchars,tag_k_value)\n",
    "        \n",
    "        if match_lower :\n",
    "            keys['lower'] += 1     \n",
    "        elif match_lower_colon :\n",
    "            keys['lower_colon'] += 1            \n",
    "        elif match_problemchars:\n",
    "            keys['problemchars'] += 1\n",
    "            problem_chars_set.add(tag_k_value)\n",
    "        else :\n",
    "            keys['other'] += 1\n",
    "            others_set.add(tag_k_value)\n",
    "            \n",
    "    return keys\n",
    "\n",
    "def process_tags(filename):\n",
    "    keys = {\"lower\": 0, \"lower_colon\": 0, \"problemchars\": 0, \"other\": 0}\n",
    "    for event,element in ET.iterparse(filename):\n",
    "        keys = key_type(element, keys)\n",
    "\n",
    "    return keys\n",
    "\n",
    "process_tags(INPUT_FILENAME)"
   ]
  },
  {
   "cell_type": "markdown",
   "metadata": {
    "collapsed": false
   },
   "source": [
    "- The above data shows that there are 35 other category tags and 7 problem char tags. Now lets take a look at these problemchars tags and other category tags to identify those tags, which might be useful for database insertion."
   ]
  },
  {
   "cell_type": "code",
   "execution_count": 5,
   "metadata": {
    "collapsed": false
   },
   "outputs": [
    {
     "name": "stdout",
     "output_type": "stream",
     "text": [
      "{'average rate/kg', 'famous for'}\n"
     ]
    }
   ],
   "source": [
    "print(problem_chars_set)"
   ]
  },
  {
   "cell_type": "code",
   "execution_count": 6,
   "metadata": {
    "collapsed": false
   },
   "outputs": [
    {
     "name": "stdout",
     "output_type": "stream",
     "text": [
      "{'IR:zone', 'source_2', 'FIXME', 'name_1', 'source_1', 'currency:INR', 'mtb:scale:imba', 'plant:output:electricity', 'fuel:octane_91', 'name_2', 'mtb:scale:uphill', 'naptan:CommonName', 'AND_a_nosr_p', 'is_in:iso_3166_2', 'fuel:octane_92', 'fuel:octane_80', 'FID_1', 'AND_a_c', 'Business'}\n"
     ]
    }
   ],
   "source": [
    "print(others_set)"
   ]
  },
  {
   "cell_type": "markdown",
   "metadata": {},
   "source": [
    "- From the above listed tags, we can discard all of them except for \"famous for\" tag, as it has some meaningfull data associated with it i.e, it has the value of famous dish of that particular place or resturant. \n",
    "\n",
    "- Now lets find out what all different \"k\" values are present in the data set."
   ]
  },
  {
   "cell_type": "code",
   "execution_count": 7,
   "metadata": {
    "collapsed": false
   },
   "outputs": [
    {
     "name": "stdout",
     "output_type": "stream",
     "text": [
      "Length of k values dictionary:  203\n"
     ]
    }
   ],
   "source": [
    "def process_tags_k_val(filename):\n",
    "    '''This function is written to find out \n",
    "    different k values present in dataset'''\n",
    "    tags_k_values_dict = {}\n",
    "    final_list = list(others_set) + list(problem_chars_set)\n",
    "    for event,element in ET.iterparse(filename):\n",
    "        if element.tag == 'tag' :\n",
    "            tag_k = element.attrib['k']\n",
    "            if tag_k not in final_list:\n",
    "                if tag_k not in tags_k_values_dict:\n",
    "                    tags_k_values_dict[tag_k] = 1\n",
    "                else :\n",
    "                    tags_k_values_dict[tag_k] += 1\n",
    "                \n",
    "    return tags_k_values_dict\n",
    "\n",
    "tags = process_tags_k_val(INPUT_FILENAME)\n",
    "print(\"Length of k values dictionary: \",len(tags))"
   ]
  },
  {
   "cell_type": "markdown",
   "metadata": {},
   "source": [
    "- As the length of dictionary is 203, the output will be huge, So I writing it to a external file called **\"tags.txt\" **."
   ]
  },
  {
   "cell_type": "code",
   "execution_count": 8,
   "metadata": {
    "collapsed": false
   },
   "outputs": [],
   "source": [
    "def output_data(lst,func=None,filename=None):\n",
    "    '''This function is written to write output \n",
    "    data to file or show it on console'''\n",
    "    if filename != None:\n",
    "        with open(filename,'w',encoding=\"utf-8\") as f:\n",
    "            if func != None:\n",
    "                for val in lst:\n",
    "                    f.write(\"{0} ----> {1}\\n\".format(val,func(val)))\n",
    "            else:\n",
    "                if type(lst) == type({}):\n",
    "                    for val in sorted(lst.keys()):\n",
    "                        f.write(\"{0} ----> {1}\\n\".format(val,lst[val]))\n",
    "                else:   \n",
    "                    for val in lst:\n",
    "                        f.write(\"{0}\\n\".format(val))\n",
    "    else : \n",
    "        if func != None:\n",
    "            for val in lst:\n",
    "                print(\"{0} ----> {1}\".format(val,func(val)))\n",
    "        else :\n",
    "            for val in lst:\n",
    "                print(\"{0}\".format(val))    "
   ]
  },
  {
   "cell_type": "code",
   "execution_count": 9,
   "metadata": {
    "collapsed": false
   },
   "outputs": [],
   "source": [
    "output_data(tags,filename=\"tags.txt\")            "
   ]
  },
  {
   "cell_type": "markdown",
   "metadata": {},
   "source": [
    "- Now lets take a look at different postal codes present in the dataset to validate them against correct format of Ahemdabad postal codes.\n",
    "- This [[website]](http://www.mapsofindia.com/pincode/india/gujarat/ahmedabad/) lists out all the available postal codes of Ahemdabad, whcih are of the format **(38\\*\\*\\*\\*)** and are 6 digits in length.\n",
    "- When we take a look at different \"k\" value tags present in \"tags.txt\", we find that postal codes are defined under **\"addr:postcode\",\"postal_code\"**.   "
   ]
  },
  {
   "cell_type": "code",
   "execution_count": 10,
   "metadata": {
    "collapsed": false
   },
   "outputs": [],
   "source": [
    "correct_postal_code_set = set()\n",
    "incorrect_postal_code_set = set()\n",
    "\n",
    "def validate_postal_code(code):\n",
    "    '''This function is written to validate \n",
    "    postal code aganist regular expression'''\n",
    "    validate_postal_code = re.compile(r'^38(\\d{4})$') #regular expression to validate postal codes.\n",
    "    match = re.search(validate_postal_code,code)\n",
    "    return match\n",
    "    \n",
    "def process_postal_codes(filename):\n",
    "    for event,element in ET.iterparse(filename):\n",
    "        if element.tag == 'tag':\n",
    "            tag_k = element.attrib['k']\n",
    "            if tag_k in ['addr:postcode','postal_code']:\n",
    "                tag_v = element.attrib['v'].replace(' ','')\n",
    "                \n",
    "                match = validate_postal_code(tag_v)\n",
    "                if match :\n",
    "                    correct_postal_code_set.add(tag_v)\n",
    "                else:\n",
    "                    incorrect_postal_code_set.add(tag_v)\n",
    "                                        \n",
    "process_postal_codes(INPUT_FILENAME)                        "
   ]
  },
  {
   "cell_type": "code",
   "execution_count": 11,
   "metadata": {
    "collapsed": false
   },
   "outputs": [
    {
     "name": "stdout",
     "output_type": "stream",
     "text": [
      "['380001', '380003', '380004', '380005', '380006', '380007', '380008', '380009', '380013', '380014', '380015', '380021', '380023', '380024', '380026', '380027', '380028', '380043', '380051', '380052', '380054', '380055', '380058', '380059', '380061', '380063', '382006', '382007', '382009', '382110', '382210', '382325', '382345', '382350', '382405', '382418', '382421', '382424', '382440', '382445', '382475', '382480', '382481']\n"
     ]
    }
   ],
   "source": [
    "print(sorted(correct_postal_code_set))"
   ]
  },
  {
   "cell_type": "code",
   "execution_count": 12,
   "metadata": {
    "collapsed": false
   },
   "outputs": [
    {
     "data": {
      "text/plain": [
       "{'3', '33026', '3800013'}"
      ]
     },
     "execution_count": 12,
     "metadata": {},
     "output_type": "execute_result"
    }
   ],
   "source": [
    "incorrect_postal_code_set"
   ]
  },
  {
   "cell_type": "markdown",
   "metadata": {},
   "source": [
    "- Almost all the postal codes the satisfy the regular expression, we assumed, except the above listed 3 postal codes. We might need to exempt them from database insertion as they are incorrect and doesn't have the correct format.\n",
    "\n",
    "- Now lets take a look at values present in **\"addr:city\"** tag, to check whether city name has been mentioned correctly in every city tag. "
   ]
  },
  {
   "cell_type": "code",
   "execution_count": 13,
   "metadata": {
    "collapsed": false
   },
   "outputs": [
    {
     "name": "stdout",
     "output_type": "stream",
     "text": [
      "['AHEMEDABAD', 'AHMEDABAD', 'Adalaj', 'Adalaj, Gandhinagar', 'Ahemdabad', 'Ahemedabad', 'Ahmadabad', 'Ahmedabad', 'Ahmedabad, Gujarat. India', 'Ahmedabad, Prahladnagar', 'Gandhinagar', 'Khodiyar', 'Koteshwar ,Ahmedabad', 'Maninagar', 'Naroda', 'Naroda road', 'Nava naroda', 'Nr.Vatva GIDC', 'Pembroke Pines', 'Ranip', 'Thaltej', 'ahmedabad', 'kOTARPUR ,Ahemedabad', 'medabad', 'ramdevnagar', 'ranip', 'sanand', 'अहमदाबाद, गुजरात']\n"
     ]
    }
   ],
   "source": [
    "def process_tags(filename,par_tag):\n",
    "    '''This function is written to process tags with specific \"k\" value.'''\n",
    "    tag_data_set = set()\n",
    "    for event,element in ET.iterparse(filename):\n",
    "        if element.tag == \"tag\":\n",
    "            tag_k = element.attrib['k']\n",
    "            if tag_k == par_tag:\n",
    "                tag_data_set.add(element.attrib['v'])\n",
    "    return tag_data_set\n",
    "                    \n",
    "city_names = sorted(process_tags(INPUT_FILENAME,\"addr:city\"))\n",
    "print(city_names)"
   ]
  },
  {
   "cell_type": "markdown",
   "metadata": {},
   "source": [
    "- The observations that can be drawn from the above listed city name are:\n",
    "  1. **\"Ahmedabad\"** is mispelled in various forms like **[\"AHEMEDABAD\", \"Ahemedabad\", \"Ahemdabad\", \"Ahmadabad\"].**\n",
    "  2. Instead of directly mentioning the city name, it is mentioned with either some local area or with state name like **[\"Ahmedabad,Gujarat. India\", \"Ahmedabad,Prahladnagar\", \"Koteshwar,Ahmedabad\", \"kOTARPUR,Ahemedabad\"].**\n",
    "  3. Instead of mentioning the city name, some local area is mention in city tag like **[\"Khodiyar\",\"Maninagar\",\"Naroda\",\"Naroda road\",\"Nava naroda\",\"Nr.Vatva GIDC\",\"Pembroke Pines\",\"Ranip\",\"medabad\",\"ramdevnagar\"].**\n",
    "  4. City name is mentioned in local language **Hindi** like **[\"अहमदाबाद, गुजरात\"].**\n",
    "  5. As Ahmedabad is situated near by Gandhinagar, some of the city tags has city value as **[\"Gandhinagar\", \"Adalaj, Gandhinagar\", \"Adalaj\"].** \n",
    "  \n",
    "- Now lets write a function that would written correct value of city which would be useful for processing city names at time of database insertion."
   ]
  },
  {
   "cell_type": "code",
   "execution_count": 14,
   "metadata": {
    "collapsed": false
   },
   "outputs": [],
   "source": [
    "def rectify_city_name(city_name):\n",
    "    '''This function is written to rectify a given city name'''\n",
    "    validate_city_ahmedabad = re.compile(r'Ah(.)*daba(d|d\\,)',re.IGNORECASE)\n",
    "    validate_city_gandhinagar = re.compile(r'(gandhinaga(r|r\\,))|(Adalaj)',re.IGNORECASE)\n",
    "    result = None\n",
    "    if re.search(validate_city_ahmedabad,city_name):\n",
    "        result = \"Ahmedabad\"\n",
    "    elif re.search(validate_city_gandhinagar,city_name):\n",
    "        result = \"Gandhinagar\"\n",
    "    else :\n",
    "        result = \"Ahmedabad\"\n",
    "     \n",
    "    return result"
   ]
  },
  {
   "cell_type": "code",
   "execution_count": 15,
   "metadata": {
    "collapsed": false
   },
   "outputs": [
    {
     "name": "stdout",
     "output_type": "stream",
     "text": [
      "AHEMEDABAD ----> Ahmedabad\n",
      "AHMEDABAD ----> Ahmedabad\n",
      "Adalaj ----> Gandhinagar\n",
      "Adalaj, Gandhinagar ----> Gandhinagar\n",
      "Ahemdabad ----> Ahmedabad\n",
      "Ahemedabad ----> Ahmedabad\n",
      "Ahmadabad ----> Ahmedabad\n",
      "Ahmedabad ----> Ahmedabad\n",
      "Ahmedabad, Gujarat. India ----> Ahmedabad\n",
      "Ahmedabad, Prahladnagar ----> Ahmedabad\n",
      "Gandhinagar ----> Gandhinagar\n",
      "Khodiyar ----> Ahmedabad\n",
      "Koteshwar ,Ahmedabad ----> Ahmedabad\n",
      "Maninagar ----> Ahmedabad\n",
      "Naroda ----> Ahmedabad\n",
      "Naroda road ----> Ahmedabad\n",
      "Nava naroda ----> Ahmedabad\n",
      "Nr.Vatva GIDC ----> Ahmedabad\n",
      "Pembroke Pines ----> Ahmedabad\n",
      "Ranip ----> Ahmedabad\n",
      "Thaltej ----> Ahmedabad\n",
      "ahmedabad ----> Ahmedabad\n",
      "kOTARPUR ,Ahemedabad ----> Ahmedabad\n",
      "medabad ----> Ahmedabad\n",
      "ramdevnagar ----> Ahmedabad\n",
      "ranip ----> Ahmedabad\n",
      "sanand ----> Ahmedabad\n",
      "अहमदाबाद, गुजरात ----> Ahmedabad\n"
     ]
    }
   ],
   "source": [
    "output_data(city_names,func=rectify_city_name)"
   ]
  },
  {
   "cell_type": "markdown",
   "metadata": {},
   "source": [
    "- Now lets take look at values present in **\"phone\"** tag to check whether they are correct format or not"
   ]
  },
  {
   "cell_type": "code",
   "execution_count": 16,
   "metadata": {
    "collapsed": false
   },
   "outputs": [
    {
     "name": "stdout",
     "output_type": "stream",
     "text": [
      "{'+91 79 2657 7621', '917926314000', '+917801949128', '+919375565533', '079 4050 5050', '+91 79 25556767', '+91 79 6190 0500/05/06/07/08/09', '079 26920057', '7096805450', '+917922700585', '915752790', '+91 94262 84715', '07926306752', '099099 22239', '7926620059', '+91 99-98-264810', '+91 79 29705588', '+917923224006', '+91 98250 41132', '+91 79 2550 7181', '+91 98981 37147', '+919879566257', '07922912990', '(079)39830036/37', '+91 8758637922', '+91 93776 19151', '+91 9054876866', '+91 79 30912345', '09016861000', '+917927550875', '07925500007', '9375776800', '+919099958936', '+91793013 0200', '+91 79 6651 5151', '+91-9978113275 ; +91-8390740897', '9909005694', '07922720605', '+91 79 2657 5741', '91-79-26401554', '+91 79 2656 5222', '+91 79 3983 0100 ', '079 6619 0201', '855-553-4767', '07927641100', '(+91-79) 4032-7226', '07926304000', '07965422223', '0792740 0228', '+917922864345', '079 2687 2386', '+91 79 2589 4542 / +91 9429207992', '093270 38242', '07926582130', '+917922167530', '+91 79 2646 6464', '+917927472043', '+917965469992', '+917927506819', '+9179 2657 8369'}\n"
     ]
    }
   ],
   "source": [
    "phone_numbers = process_tags(INPUT_FILENAME,\"phone\")\n",
    "print(phone_numbers)"
   ]
  },
  {
   "cell_type": "markdown",
   "metadata": {},
   "source": [
    "- The observations that can be drawn from the above list phone numbers are:\n",
    "  1. Some of the phone numbers are starting with coutry code **\"+91\" or 91** like **+91 79 2550 7181, \"917926314000\" .**\n",
    "  2. some of the phone numbers are starting with **Zero** like **\"079 6619 0201\".**\n",
    "  3. Some numbers are having Parentheses in them like **\"(+91-79) 4032-7226\".** \n",
    "  4. Some numbers are standered **ten digit** phone numbers like **\"7926620059\".**\n",
    "  5. Some places have multiple phone numbers like **\"+91 79 6190 0500/05/06/07/08/09\".**\n",
    "  6. Some numbers are having incorrect format like **\"915752790\".**\n",
    "  \n",
    "- Now lets write a function to convert all the phone numbers to **standard format** like **\"+91 88 7777 6666\"**  "
   ]
  },
  {
   "cell_type": "code",
   "execution_count": 17,
   "metadata": {
    "collapsed": true
   },
   "outputs": [],
   "source": [
    "def rectify_phone_number(phone_number):\n",
    "    '''This function is written to rectify a given phone number'''\n",
    "    detect_multiple = re.compile(r'[/;]')\n",
    "    match = re.search(detect_multiple,phone_number)\n",
    "    num_lst = []\n",
    "    rectified_lst = []\n",
    "    if len(phone_number) < 10:\n",
    "        return \"Invalid Phone Number\"\n",
    "    else:\n",
    "        if match:\n",
    "            num_lst = convert_to_lst(phone_number,match.group())\n",
    "        else:   \n",
    "            num_lst = [phone_number]\n",
    "        \n",
    "        rectified_lst = validate_and_remove_problem_chars(num_lst)\n",
    "        \n",
    "        if len(rectified_lst) == 1:\n",
    "            return rectified_lst[0]\n",
    "        else:\n",
    "            return rectified_lst\n"
   ]
  },
  {
   "cell_type": "code",
   "execution_count": 18,
   "metadata": {
    "collapsed": true
   },
   "outputs": [],
   "source": [
    "def convert_to_lst(phone_number,split_val):\n",
    "    '''This function is written to handle \n",
    "    multiple phone numbers scenario'''\n",
    "    num_lst = phone_number.split(split_val)\n",
    "    nw_lst = []\n",
    "    nw_lst.append(num_lst[0])\n",
    "    for i in range(1,len(num_lst)):\n",
    "        if len(num_lst[i]) < 10:\n",
    "            new_num = num_lst[0][:len(num_lst[0])-len(num_lst[i])] + num_lst[i]\n",
    "            nw_lst.append(new_num)\n",
    "        else:\n",
    "            nw_lst.append(num_lst[i])\n",
    "    \n",
    "    return nw_lst"
   ]
  },
  {
   "cell_type": "code",
   "execution_count": 19,
   "metadata": {
    "collapsed": true
   },
   "outputs": [],
   "source": [
    "def validate_and_remove_problem_chars(num_lst):\n",
    "    '''This function is written to validate a \n",
    "    given phone number aganist standard format'''\n",
    "    correct_format = re.compile(r'^(\\+91) \\d{2} \\d{4} \\d{4}')\n",
    "    new_lst = []\n",
    "    for number in num_lst:\n",
    "        match = re.search(correct_format,number)\n",
    "        if match :\n",
    "            new_lst.append(number)\n",
    "        else : \n",
    "            new_number = change_to_standard_format(number)\n",
    "            new_lst.append(new_number)\n",
    "    \n",
    "    return new_lst "
   ]
  },
  {
   "cell_type": "code",
   "execution_count": 20,
   "metadata": {
    "collapsed": true
   },
   "outputs": [],
   "source": [
    "def change_to_standard_format(phone_number):\n",
    "    '''This function is written to convert a given phone number to standard format'''\n",
    "    new_number = phone_number.replace('(','').replace(')','').replace('-','').replace(' ','')\n",
    "    if new_number.startswith('+91'):\n",
    "        new_number = '+91 ' + new_number[3:5] + ' ' + new_number[5:9] + ' ' +new_number[9:14]\n",
    "    elif new_number.startswith('91'):\n",
    "        new_number = '+91 ' + new_number[2:4] + ' ' + new_number[4:8] + ' ' +new_number[8:13]\n",
    "    elif new_number.startswith('0'):\n",
    "        new_number = '+91 ' + new_number[1:3] + ' ' + new_number[3:7] + ' ' +new_number[7:12]\n",
    "    else:\n",
    "        new_number = '+91 ' + new_number[:2] + ' ' + new_number[2:6] + ' ' +new_number[6:11]\n",
    "    return new_number          "
   ]
  },
  {
   "cell_type": "markdown",
   "metadata": {},
   "source": [
    "- As output is large, I am writing it to an external file **\"correct_ph_numbers.txt\".** "
   ]
  },
  {
   "cell_type": "code",
   "execution_count": 21,
   "metadata": {
    "collapsed": false
   },
   "outputs": [],
   "source": [
    "output_data(phone_numbers,rectify_phone_number,\"correct_ph_numbers.txt\")    "
   ]
  },
  {
   "cell_type": "markdown",
   "metadata": {},
   "source": [
    "- Now lets audit what are the different street names present in the dataset."
   ]
  },
  {
   "cell_type": "code",
   "execution_count": 22,
   "metadata": {
    "collapsed": false
   },
   "outputs": [],
   "source": [
    "street_names = process_tags(INPUT_FILENAME,\"addr:street\")\n",
    "output_data(street_names,filename=\"street_names.txt\")    "
   ]
  },
  {
   "cell_type": "markdown",
   "metadata": {},
   "source": [
    "- The observations that can be drawn from street data are :\n",
    "  1. Most of the street names are either ending with word **road or marg** which are in correct format.\n",
    "  2. Few street names are in incorrect format i.e, they are having city, country name in them for eg.**\"Uttamnagar, Ahmedabad\".**\n",
    "  3. One of the Street names is mentioned in local language **\"Hindi\"** like **\"एरपोर्ट रोड\"**.\n",
    "  4. Some of the street names are in lower case letters, some of them are in upper case.\n",
    "  \n",
    "- Now lets write a function that would process a given street name and convert it into a standard format.\n",
    "- Lets create a dictionary that would contain incorrect names as keys and correct names as values, if a given street name is  found in that dictionary, we will return the correct value , else will return the given street name in standard format."
   ]
  },
  {
   "cell_type": "code",
   "execution_count": 23,
   "metadata": {
    "collapsed": false
   },
   "outputs": [],
   "source": [
    "def rectify_street_name(street_name):\n",
    "    incorrect_names = {'एरपोर्ट रोड': 'Airport Road'}\n",
    "    if street_name in incorrect_names:\n",
    "        return incorrect_names[street_name]\n",
    "    else:\n",
    "        new_street_name = street_name.lower().strip(' ')        \n",
    "        if new_street_name.endswith('ahmedabad'):\n",
    "            new_street_name = new_street_name.replace('ahmedabad','').replace(',','')\n",
    "        elif new_street_name.endswith('gujarat, india'):\n",
    "            new_street_name = new_street_name.replace('gujarat, india','').replace(',','')  \n",
    "        return new_street_name.title()"
   ]
  },
  {
   "cell_type": "code",
   "execution_count": 24,
   "metadata": {
    "collapsed": true
   },
   "outputs": [],
   "source": [
    "output_data(street_names,rectify_street_name,\"correct_street_names.txt\")  "
   ]
  }
 ],
 "metadata": {
  "kernelspec": {
   "display_name": "Python 3",
   "language": "python",
   "name": "python3"
  },
  "language_info": {
   "codemirror_mode": {
    "name": "ipython",
    "version": 3
   },
   "file_extension": ".py",
   "mimetype": "text/x-python",
   "name": "python",
   "nbconvert_exporter": "python",
   "pygments_lexer": "ipython3",
   "version": "3.6.0"
  }
 },
 "nbformat": 4,
 "nbformat_minor": 2
}
