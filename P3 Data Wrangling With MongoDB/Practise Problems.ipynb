{
 "cells": [
  {
   "cell_type": "markdown",
   "metadata": {},
   "source": [
    "## Using Csv Module"
   ]
  },
  {
   "cell_type": "code",
   "execution_count": 7,
   "metadata": {
    "collapsed": false
   },
   "outputs": [],
   "source": [
    "import csv\n",
    "import os\n",
    "\n",
    "DATADIR = \"\"\n",
    "DATAFILE = \"745090.csv\"\n",
    "\n",
    "def parse_file(datafile):\n",
    "    name = None\n",
    "    data = []\n",
    "    with open(datafile,'r') as f:\n",
    "        firstLine = f.readline()\n",
    "        name = firstLine.strip().split(',')[1]\n",
    "        secondLine = f.readline()\n",
    "        header = csv.reader(f)\n",
    "        data = (list(header))\n",
    "    # Do not change the line below\n",
    "    return (name.replace('\"',\"\"), data)\n",
    "\n",
    "\n",
    "def test():\n",
    "    datafile = os.path.join(DATADIR, DATAFILE)\n",
    "    name, data = parse_file(datafile)\n",
    "\n",
    "    assert name == \"MOUNTAIN VIEW MOFFETT FLD NAS\"\n",
    "    assert data[0][1] == \"01:00\"\n",
    "    assert data[2][0] == \"01/01/2005\"\n",
    "    assert data[2][5] == \"2\"\n",
    "\n",
    "\n",
    "if __name__ == \"__main__\":\n",
    "    test()\n",
    "  "
   ]
  },
  {
   "cell_type": "markdown",
   "metadata": {
    "collapsed": true
   },
   "source": [
    "## Using Xlrd Module"
   ]
  },
  {
   "cell_type": "code",
   "execution_count": 4,
   "metadata": {
    "collapsed": false
   },
   "outputs": [
    {
     "data": {
      "text/plain": [
       "{'avgcoast': 10976.933460679751,\n",
       " 'maxtime': (2013, 8, 13, 17, 0, 0),\n",
       " 'maxvalue': 18779.025510000003,\n",
       " 'mintime': (2013, 2, 3, 4, 0, 0),\n",
       " 'minvalue': 6602.113898999982}"
      ]
     },
     "execution_count": 4,
     "metadata": {},
     "output_type": "execute_result"
    }
   ],
   "source": [
    "#!/usr/bin/env python\n",
    "\"\"\"\n",
    "Your task is as follows:\n",
    "- read the provided Excel file\n",
    "- find and return the min, max and average values for the COAST region\n",
    "- find and return the time value for the min and max entries\n",
    "- the time values should be returned as Python tuples\n",
    "\n",
    "Please see the test function for the expected return format\n",
    "\"\"\"\n",
    "\n",
    "import xlrd\n",
    "from zipfile import ZipFile\n",
    "datafile = \"2013_ERCOT_Hourly_Load_Data.xls\"\n",
    "\n",
    "\n",
    "def open_zip(datafile):\n",
    "    with ZipFile('{0}.zip'.format(datafile), 'r') as myzip:\n",
    "        myzip.extractall()\n",
    "\n",
    "\n",
    "def parse_file(datafile):\n",
    "    workbook = xlrd.open_workbook(datafile)\n",
    "    sheet = workbook.sheet_by_index(0)\n",
    "\n",
    "    ### example on how you can get the data\n",
    "    #sheet_data = [[sheet.cell_value(r, col) for col in range(sheet.ncols)] for r in range(sheet.nrows)]\n",
    "\n",
    "    ### other useful methods:\n",
    "    # print \"\\nROWS, COLUMNS, and CELLS:\"\n",
    "    # print \"Number of rows in the sheet:\", \n",
    "    # print sheet.nrows\n",
    "    # print \"Type of data in cell (row 3, col 2):\", \n",
    "    # print sheet.cell_type(3, 2)\n",
    "    # print \"Value in cell (row 3, col 2):\", \n",
    "    # print sheet.cell_value(3, 2)\n",
    "    # print \"Get a slice of values in column 3, from rows 1-3:\"\n",
    "    # print sheet.col_values(3, start_rowx=1, end_rowx=4)\n",
    "\n",
    "    # print \"\\nDATES:\"\n",
    "    # print \"Type of data in cell (row 1, col 0):\", \n",
    "    # print sheet.cell_type(1, 0)\n",
    "    # exceltime = sheet.cell_value(1, 0)\n",
    "    # print \"Time in Excel format:\",\n",
    "    # print exceltime\n",
    "    # print \"Convert time to a Python datetime tuple, from the Excel float:\",\n",
    "    # print xlrd.xldate_as_tuple(exceltime, 0)\n",
    "    \n",
    "    \n",
    "    col_values = sheet.col_values(1,start_rowx=1,end_rowx=None)\n",
    "    \n",
    "    max_val = max(col_values)\n",
    "    min_val = min(col_values)\n",
    "    \n",
    "    max_pos = col_values.index(max_val) + 1\n",
    "    min_pos = col_values.index(min_val) + 1\n",
    "  \n",
    "    min_time = xlrd.xldate_as_tuple(sheet.cell_value(min_pos,0), 0)\n",
    "    max_time = xlrd.xldate_as_tuple(sheet.cell_value(max_pos,0), 0)\n",
    "    \n",
    "    data = {\n",
    "            'maxtime': max_time,\n",
    "            'maxvalue': max_val,\n",
    "            'mintime': min_time,\n",
    "            'minvalue': min_val,\n",
    "            'avgcoast': sum(col_values) / float(len(col_values))\n",
    "    }\n",
    "    \n",
    "    return data\n",
    "\n",
    "\n",
    "def test():\n",
    "    #open_zip(datafile)\n",
    "    data = parse_file(datafile)\n",
    "\n",
    "    assert data['maxtime'] == (2013, 8, 13, 17, 0, 0)\n",
    "    assert round(data['maxvalue'], 10) == round(18779.02551, 10)\n",
    "\n",
    "\n",
    "test()\n",
    "\n",
    "parse_file(datafile)"
   ]
  },
  {
   "cell_type": "code",
   "execution_count": 36,
   "metadata": {
    "collapsed": false
   },
   "outputs": [
    {
     "data": {
      "text/plain": [
       "[{'max_load': 18779.025510000003,\n",
       "  'station_name': 'COAST',\n",
       "  'time': (2013, 8, 13, 17, 0, 0)},\n",
       " {'max_load': 2380.1654089999956,\n",
       "  'station_name': 'EAST',\n",
       "  'time': (2013, 8, 5, 17, 0, 0)},\n",
       " {'max_load': 2281.2722140000024,\n",
       "  'station_name': 'FAR_WEST',\n",
       "  'time': (2013, 6, 26, 17, 0, 0)},\n",
       " {'max_load': 1544.7707140000005,\n",
       "  'station_name': 'NORTH',\n",
       "  'time': (2013, 8, 7, 17, 0, 0)},\n",
       " {'max_load': 24415.570226999993,\n",
       "  'station_name': 'NORTH_C',\n",
       "  'time': (2013, 8, 7, 18, 0, 0)},\n",
       " {'max_load': 5494.157645,\n",
       "  'station_name': 'SOUTHERN',\n",
       "  'time': (2013, 8, 8, 16, 0, 0)},\n",
       " {'max_load': 11433.30491600001,\n",
       "  'station_name': 'SOUTH_C',\n",
       "  'time': (2013, 8, 8, 18, 0, 0)},\n",
       " {'max_load': 1862.6137649999998,\n",
       "  'station_name': 'WEST',\n",
       "  'time': (2013, 8, 7, 17, 0, 0)}]"
      ]
     },
     "execution_count": 36,
     "metadata": {},
     "output_type": "execute_result"
    }
   ],
   "source": [
    "# -*- coding: utf-8 -*-\n",
    "'''\n",
    "Find the time and value of max load for each of the regions\n",
    "COAST, EAST, FAR_WEST, NORTH, NORTH_C, SOUTHERN, SOUTH_C, WEST\n",
    "and write the result out in a csv file, using pipe character | as the delimiter.\n",
    "\n",
    "An example output can be seen in the \"example.csv\" file.\n",
    "'''\n",
    "\n",
    "import xlrd\n",
    "import os\n",
    "import csv\n",
    "from zipfile import ZipFile\n",
    "\n",
    "datafile = \"2013_ERCOT_Hourly_Load_Data.xls\"\n",
    "outfile = \"2013_Max_Loads.csv\"\n",
    "\n",
    "\n",
    "def open_zip(datafile):\n",
    "    with ZipFile('{0}.zip'.format(datafile), 'r') as myzip:\n",
    "        myzip.extractall()\n",
    "\n",
    "\n",
    "def parse_file(datafile):\n",
    "    workbook = xlrd.open_workbook(datafile)\n",
    "    sheet = workbook.sheet_by_index(0)\n",
    "    data = []\n",
    "    # YOUR CODE HERE\n",
    "    # Remember that you can use xlrd.xldate_as_tuple(sometime, 0) to convert\n",
    "    # Excel date to Python tuple of (year, month, day, hour, minute, second)\n",
    "    \n",
    "    for i in range(1,sheet.ncols-1):\n",
    "        temp = {}\n",
    "        temp[\"station_name\"] = (sheet.cell_value(0,i))\n",
    "        \n",
    "        col_values = sheet.col_values(i,start_rowx=1,end_rowx=None)\n",
    "        max_load = max(col_values)        \n",
    "        max_pos = col_values.index(max_load) + 1\n",
    "        max_date = xlrd.xldate_as_tuple(sheet.cell_value(max_pos,0),0)\n",
    "        \n",
    "        temp[\"max_load\"] = max_load\n",
    "        temp[\"time\"] = max_date\n",
    "        data.append(temp)\n",
    "            \n",
    "    return data\n",
    "parse_file(datafile)"
   ]
  },
  {
   "cell_type": "code",
   "execution_count": 40,
   "metadata": {
    "collapsed": false
   },
   "outputs": [
    {
     "name": "stdout",
     "output_type": "stream",
     "text": [
      "['COAST', 2013, 8, 13, 17, 18779.025510000003]\n",
      "['EAST', 2013, 8, 5, 17, 2380.1654089999956]\n",
      "['FAR_WEST', 2013, 6, 26, 17, 2281.2722140000024]\n",
      "['NORTH', 2013, 8, 7, 17, 1544.7707140000005]\n",
      "['NORTH_C', 2013, 8, 7, 18, 24415.570226999993]\n",
      "['SOUTHERN', 2013, 8, 8, 16, 5494.157645]\n",
      "['SOUTH_C', 2013, 8, 8, 18, 11433.30491600001]\n",
      "['WEST', 2013, 8, 7, 17, 1862.6137649999998]\n"
     ]
    }
   ],
   "source": [
    "data = parse_file(datafile)\n",
    "def save_file(data, filename):\n",
    "        with open(filename,'w') as f:\n",
    "            writer = csv.writer(f, delimiter='|')\n",
    "            writer.writerow(['Station','Year','Month','Day','Hour','Max Load'])\n",
    "            \n",
    "            for row in data:\n",
    "                temp = []\n",
    "                temp.append(row['station_name'])\n",
    "                temp.extend(list(row['time'])[:-2])\n",
    "                temp.append(row['max_load'])\n",
    "                print (temp)\n",
    "                writer.writerow(temp)\n",
    "                        \n",
    "save_file(data, \"example.csv\")  "
   ]
  },
  {
   "cell_type": "code",
   "execution_count": null,
   "metadata": {
    "collapsed": true
   },
   "outputs": [],
   "source": []
  }
 ],
 "metadata": {
  "kernelspec": {
   "display_name": "Python 3",
   "language": "python",
   "name": "python3"
  },
  "language_info": {
   "codemirror_mode": {
    "name": "ipython",
    "version": 3
   },
   "file_extension": ".py",
   "mimetype": "text/x-python",
   "name": "python",
   "nbconvert_exporter": "python",
   "pygments_lexer": "ipython3",
   "version": "3.6.0"
  }
 },
 "nbformat": 4,
 "nbformat_minor": 2
}
