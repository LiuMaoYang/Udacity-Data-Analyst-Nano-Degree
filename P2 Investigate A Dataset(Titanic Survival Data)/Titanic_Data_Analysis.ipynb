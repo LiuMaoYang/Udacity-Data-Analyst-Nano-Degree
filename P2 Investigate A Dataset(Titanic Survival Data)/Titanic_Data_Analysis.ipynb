{
 "cells": [
  {
   "cell_type": "markdown",
   "metadata": {},
   "source": [
    "# Titanic Data Analysis\n",
    "\n",
    "The data set which I am going to explore contains the information gathered from 891 of the 2224 passengers and crew on board the Titanic. The Data set has various columns like \n",
    "- Survival\n",
    "- Pclass(Ticket class)\n",
    "- Sex\n",
    "- Age\n",
    "- Sibsp(# of siblings / spouses aboard the Titanic)\n",
    "- Parch(# of parents / children aboard the Titanic)\n",
    "- Ticket(Ticket Number)\n",
    "- Fare\n",
    "- Cabin(cabin Number)\n",
    "- Embarked (port of Embarkation).   \n",
    "\n",
    "## Loading Data From Csv\n",
    "\n",
    "For importing data from csv, pandas has a built in function which reads the information into a dataframe. "
   ]
  },
  {
   "cell_type": "code",
   "execution_count": 1,
   "metadata": {
    "collapsed": false
   },
   "outputs": [
    {
     "data": {
      "text/html": [
       "<div>\n",
       "<table border=\"1\" class=\"dataframe\">\n",
       "  <thead>\n",
       "    <tr style=\"text-align: right;\">\n",
       "      <th></th>\n",
       "      <th>PassengerId</th>\n",
       "      <th>Survived</th>\n",
       "      <th>Pclass</th>\n",
       "      <th>Name</th>\n",
       "      <th>Sex</th>\n",
       "      <th>Age</th>\n",
       "      <th>SibSp</th>\n",
       "      <th>Parch</th>\n",
       "      <th>Ticket</th>\n",
       "      <th>Fare</th>\n",
       "      <th>Cabin</th>\n",
       "      <th>Embarked</th>\n",
       "    </tr>\n",
       "  </thead>\n",
       "  <tbody>\n",
       "    <tr>\n",
       "      <th>0</th>\n",
       "      <td>1</td>\n",
       "      <td>0</td>\n",
       "      <td>3</td>\n",
       "      <td>Braund, Mr. Owen Harris</td>\n",
       "      <td>male</td>\n",
       "      <td>22.0</td>\n",
       "      <td>1</td>\n",
       "      <td>0</td>\n",
       "      <td>A/5 21171</td>\n",
       "      <td>7.2500</td>\n",
       "      <td>NaN</td>\n",
       "      <td>S</td>\n",
       "    </tr>\n",
       "    <tr>\n",
       "      <th>1</th>\n",
       "      <td>2</td>\n",
       "      <td>1</td>\n",
       "      <td>1</td>\n",
       "      <td>Cumings, Mrs. John Bradley (Florence Briggs Th...</td>\n",
       "      <td>female</td>\n",
       "      <td>38.0</td>\n",
       "      <td>1</td>\n",
       "      <td>0</td>\n",
       "      <td>PC 17599</td>\n",
       "      <td>71.2833</td>\n",
       "      <td>C85</td>\n",
       "      <td>C</td>\n",
       "    </tr>\n",
       "    <tr>\n",
       "      <th>2</th>\n",
       "      <td>3</td>\n",
       "      <td>1</td>\n",
       "      <td>3</td>\n",
       "      <td>Heikkinen, Miss. Laina</td>\n",
       "      <td>female</td>\n",
       "      <td>26.0</td>\n",
       "      <td>0</td>\n",
       "      <td>0</td>\n",
       "      <td>STON/O2. 3101282</td>\n",
       "      <td>7.9250</td>\n",
       "      <td>NaN</td>\n",
       "      <td>S</td>\n",
       "    </tr>\n",
       "  </tbody>\n",
       "</table>\n",
       "</div>"
      ],
      "text/plain": [
       "   PassengerId  Survived  Pclass  \\\n",
       "0            1         0       3   \n",
       "1            2         1       1   \n",
       "2            3         1       3   \n",
       "\n",
       "                                                Name     Sex   Age  SibSp  \\\n",
       "0                            Braund, Mr. Owen Harris    male  22.0      1   \n",
       "1  Cumings, Mrs. John Bradley (Florence Briggs Th...  female  38.0      1   \n",
       "2                             Heikkinen, Miss. Laina  female  26.0      0   \n",
       "\n",
       "   Parch            Ticket     Fare Cabin Embarked  \n",
       "0      0         A/5 21171   7.2500   NaN        S  \n",
       "1      0          PC 17599  71.2833   C85        C  \n",
       "2      0  STON/O2. 3101282   7.9250   NaN        S  "
      ]
     },
     "execution_count": 1,
     "metadata": {},
     "output_type": "execute_result"
    }
   ],
   "source": [
    "import pandas as pd\n",
    "\n",
    "titanic_data = pd.read_csv('titanic_data.csv')\n",
    "titanic_data.head(3)"
   ]
  },
  {
   "cell_type": "markdown",
   "metadata": {},
   "source": [
    "## Overall Metrics\n",
    "\n",
    "The information has a column called 'survived' whose values are either 0 or 1, using this column we can count the total number of deaths and survivors."
   ]
  },
  {
   "cell_type": "code",
   "execution_count": 46,
   "metadata": {
    "collapsed": false
   },
   "outputs": [
    {
     "name": "stdout",
     "output_type": "stream",
     "text": [
      "------------------------------------------\n",
      "Total number of passengers on board:  891\n",
      "Total number of survivors:  342\n",
      "Total number of casualties:  549\n",
      "------------------------------------------\n"
     ]
    }
   ],
   "source": [
    "total_no_passengers = len(titanic_data['PassengerId'])\n",
    "survival_data = titanic_data['Survived']\n",
    "survivied = (survival_data == 1).sum()\n",
    "casualties = (survival_data == 0).sum()\n",
    "\n",
    "print('------------------------------------------')\n",
    "print('Total number of passengers on board: ',total_no_passengers)\n",
    "print('Total number of survivors: ',survivied)\n",
    "print('Total number of casualties: ',casualties)\n",
    "print('------------------------------------------')"
   ]
  },
  {
   "cell_type": "markdown",
   "metadata": {},
   "source": [
    "- The following pie chart shows the distribution of survivors and deaths"
   ]
  },
  {
   "cell_type": "code",
   "execution_count": 5,
   "metadata": {
    "collapsed": false
   },
   "outputs": [
    {
     "name": "stdout",
     "output_type": "stream",
     "text": [
      "Populating the interactive namespace from numpy and matplotlib\n"
     ]
    },
    {
     "data": {
      "image/png": "[encoded data removed]",
      "text/plain": [
       "<matplotlib.figure.Figure at 0x97e6080>"
      ]
     },
     "metadata": {},
     "output_type": "display_data"
    }
   ],
   "source": [
    "%pylab inline\n",
    "import matplotlib.pyplot as plt\n",
    "\n",
    "def drawPieChart(labels,sizes,explode,startangle):\n",
    "    plt.pie(sizes, explode=explode, labels=labels,autopct='%1.2f%%', shadow=True, startangle=startangle) \n",
    "    plt.axis('equal')\n",
    "    plt.show()\n",
    "    \n",
    "drawPieChart(['Survivors', 'casualties'],[survivied,casualties],(0.1, 0),105)    "
   ]
  },
  {
   "cell_type": "markdown",
   "metadata": {},
   "source": [
    "## Overall Metrics By Gender\n",
    "\n",
    "The above metrics show the total number of survivors and casualties, now let us explore these metrics based on the gender.\n",
    "Using the groupby function on dataframe based on the gender, we can count the total number of female and male survivors. when we calulate female survivors and male survivors in terms of percentages with respect to total survivors  , we find that female survivors constitute (68.13%) and male survivors constitute (31.87%). Using this information, we can conclude that females where given more preference in using life saving materials like life boats, etc.\n",
    "\n"
   ]
  },
  {
   "cell_type": "code",
   "execution_count": 7,
   "metadata": {
    "collapsed": false
   },
   "outputs": [
    {
     "name": "stdout",
     "output_type": "stream",
     "text": [
      "-------------------------------------\n",
      "Total number of males:  577\n",
      "Total number of male survivors:  109\n",
      "Total number of male casualties:  468\n",
      "--------------------------------------\n",
      "Total number of females:  314\n",
      "Total number of female survivors:  233\n",
      "Total number of female casualties:  81\n",
      "--------------------------------------\n"
     ]
    }
   ],
   "source": [
    "male_count = (titanic_data['Sex'] == 'male').sum()\n",
    "female_count = (titanic_data['Sex'] == 'female').sum()\n",
    "group_by_gender = titanic_data.groupby('Sex').sum()['Survived']\n",
    "male_survivors = group_by_gender['male']\n",
    "female_survivors = group_by_gender['female']\n",
    "male_casualties = male_count - male_survivors\n",
    "female_casualties = female_count - female_survivors\n",
    "\n",
    "print('-------------------------------------')\n",
    "print('Total number of males: ',male_count)\n",
    "print('Total number of male survivors: ',male_survivors)\n",
    "print('Total number of male casualties: ',male_deaths)\n",
    "print('--------------------------------------')\n",
    "print('Total number of females: ',female_count)\n",
    "print('Total number of female survivors: ',female_survivors)\n",
    "print('Total number of female casualties: ',female_deaths)\n",
    "print('--------------------------------------')"
   ]
  },
  {
   "cell_type": "markdown",
   "metadata": {},
   "source": [
    "- The following pie chart shows the distribution of male and female survivors"
   ]
  },
  {
   "cell_type": "code",
   "execution_count": 8,
   "metadata": {
    "collapsed": false
   },
   "outputs": [
    {
     "data": {
      "image/png": "[encoded data removed]",
      "text/plain": [
       "<matplotlib.figure.Figure at 0x97e6c18>"
      ]
     },
     "metadata": {},
     "output_type": "display_data"
    }
   ],
   "source": [
    "drawPieChart(['Female Survivors', 'Male Survivors'],[female_survivors,male_survivors],(0.1, 0),60)"
   ]
  },
  {
   "cell_type": "markdown",
   "metadata": {
    "collapsed": true
   },
   "source": [
    "## Explore Casualties based on Pclass\n",
    "\n",
    "Let us exlpore the Casualties based on Pclass(A proxy for socio-economic status (SES), 1st = Upper, 2nd = Middle, 3rd = Lower) to see whether passengers were given priority based on their class. Now Lets explore some metrics related to Pclass.\n"
   ]
  },
  {
   "cell_type": "code",
   "execution_count": 43,
   "metadata": {
    "collapsed": false
   },
   "outputs": [
    {
     "name": "stdout",
     "output_type": "stream",
     "text": [
      "----------------------------------\n",
      "Pclass 1 Metrics: \n",
      "Total Number Of People:  216\n",
      "Total Number Of Survivors:  136\n",
      "Total Number Of casualties:  80\n",
      "Survival Rate: 62.96%\n",
      "----------------------------------\n",
      "Pclass 2 Metrics: \n",
      "Total Number Of People:  184\n",
      "Total Number Of Survivors:  87\n",
      "Total Number Of casualties:  97\n",
      "Survival Rate: 47.28%\n",
      "----------------------------------\n",
      "Pclass 3 Metrics: \n",
      "Total Number Of People:  491\n",
      "Total Number Of Survivors:  119\n",
      "Total Number Of casualties:  372\n",
      "Survival Rate: 24.24%\n",
      "----------------------------------\n"
     ]
    }
   ],
   "source": [
    "pclass = titanic_data['Pclass']\n",
    "pclass_1 = (pclass == 1).sum()\n",
    "pclass_2 = (pclass == 2).sum()\n",
    "pclass_3 = (pclass == 3).sum()\n",
    "\n",
    "pclass_1_survivors = ((pclass == 1)&(survival_data == 1)).sum()\n",
    "pclass_1_casualties = ((pclass == 1)&(survival_data == 0)).sum()\n",
    "\n",
    "pclass_2_survivors = ((pclass == 2)&(survival_data == 1)).sum()\n",
    "pclass_2_casualties = ((pclass == 2)&(survival_data == 0)).sum()\n",
    "\n",
    "pclass_3_survivors = ((pclass == 3)&(survival_data == 1)).sum()\n",
    "pclass_3_casualties = ((pclass == 3)&(survival_data == 0)).sum()\n",
    "\n",
    "print('----------------------------------')\n",
    "print('Pclass 1 Metrics: ')\n",
    "print('Total Number Of People: ',pclass_1)\n",
    "print('Total Number Of Survivors: ',pclass_1_survivors)\n",
    "print('Total Number Of casualties: ',pclass_1_casualties)\n",
    "print('Survival Rate: {0}%'.format(round((pclass_1_survivors/pclass_1)*100.0,2)))\n",
    "print('----------------------------------')\n",
    "\n",
    "print('Pclass 2 Metrics: ')\n",
    "print('Total Number Of People: ',pclass_2)\n",
    "print('Total Number Of Survivors: ',pclass_2_survivors)\n",
    "print('Total Number Of casualties: ',pclass_2_casualties)\n",
    "print('Survival Rate: {0}%'.format(round((pclass_2_survivors/pclass_2)*100.0,2)))\n",
    "print('----------------------------------')\n",
    "\n",
    "print('Pclass 3 Metrics: ')\n",
    "print('Total Number Of People: ',pclass_3)\n",
    "print('Total Number Of Survivors: ',pclass_3_survivors)\n",
    "print('Total Number Of casualties: ',pclass_3_casualties)\n",
    "print('Survival Rate: {0}%'.format(round((pclass_3_survivors/pclass_3)*100.0,2)))\n",
    "print('----------------------------------')"
   ]
  },
  {
   "cell_type": "markdown",
   "metadata": {},
   "source": [
    "- From the above listed metrics, we can say that people from upper class(pclass = 1) were given priority as they had the highest survival rate of (62.96%) which is greater than the survival rates of both middle class and lower class. Lets plot a histogram of casualties to get a more precise picture"
   ]
  },
  {
   "cell_type": "code",
   "execution_count": 38,
   "metadata": {
    "collapsed": false,
    "scrolled": false
   },
   "outputs": [
    {
     "data": {
      "image/png": "[encoded data removed]",
      "text/plain": [
       "<matplotlib.figure.Figure at 0x99f2a20>"
      ]
     },
     "metadata": {},
     "output_type": "display_data"
    }
   ],
   "source": [
    "pclass_casualties = pclass[survival_data == 0]\n",
    "\n",
    "def drawHistogram(data,xticks,title,xlabel,ylabel):\n",
    "    plt.xticks(xticks)\n",
    "    plt.title(title)\n",
    "    plt.xlabel(xlabel)\n",
    "    plt.ylabel(ylabel)\n",
    "    plt.hist(data)\n",
    "    plt.show()\n",
    "\n",
    "drawHistogram(pclass_casualties,range(1,4),'Distribution of casualties based on Pclass',\n",
    "              'Pclass value','Number of survivors')"
   ]
  },
  {
   "cell_type": "markdown",
   "metadata": {},
   "source": [
    "- The Histogram above shows the distribution of casualties based on their pclass, as we can observe that lower class has the   most number of casualties when compared to upper class and middle class. So, Now we can say that lower class people got the   least priority for life saving materials like life boats, etc. "
   ]
  },
  {
   "cell_type": "markdown",
   "metadata": {},
   "source": [
    "## Explore Survivors And Casualties Based On Age\n",
    "\n",
    "- In this part of data exploration, I want to check whether did age played any role in survival.\n",
    "- As a first step towards the Age data exploration, Lets take a look at age data for any anomalies."
   ]
  },
  {
   "cell_type": "code",
   "execution_count": 54,
   "metadata": {
    "collapsed": false
   },
   "outputs": [
    {
     "data": {
      "text/html": [
       "<div>\n",
       "<table border=\"1\" class=\"dataframe\">\n",
       "  <thead>\n",
       "    <tr style=\"text-align: right;\">\n",
       "      <th></th>\n",
       "      <th>PassengerId</th>\n",
       "      <th>Survived</th>\n",
       "      <th>Name</th>\n",
       "      <th>Sex</th>\n",
       "      <th>Age</th>\n",
       "    </tr>\n",
       "  </thead>\n",
       "  <tbody>\n",
       "    <tr>\n",
       "      <th>0</th>\n",
       "      <td>1</td>\n",
       "      <td>0</td>\n",
       "      <td>Braund, Mr. Owen Harris</td>\n",
       "      <td>male</td>\n",
       "      <td>22.0</td>\n",
       "    </tr>\n",
       "    <tr>\n",
       "      <th>1</th>\n",
       "      <td>2</td>\n",
       "      <td>1</td>\n",
       "      <td>Cumings, Mrs. John Bradley (Florence Briggs Th...</td>\n",
       "      <td>female</td>\n",
       "      <td>38.0</td>\n",
       "    </tr>\n",
       "    <tr>\n",
       "      <th>2</th>\n",
       "      <td>3</td>\n",
       "      <td>1</td>\n",
       "      <td>Heikkinen, Miss. Laina</td>\n",
       "      <td>female</td>\n",
       "      <td>26.0</td>\n",
       "    </tr>\n",
       "    <tr>\n",
       "      <th>3</th>\n",
       "      <td>4</td>\n",
       "      <td>1</td>\n",
       "      <td>Futrelle, Mrs. Jacques Heath (Lily May Peel)</td>\n",
       "      <td>female</td>\n",
       "      <td>35.0</td>\n",
       "    </tr>\n",
       "    <tr>\n",
       "      <th>4</th>\n",
       "      <td>5</td>\n",
       "      <td>0</td>\n",
       "      <td>Allen, Mr. William Henry</td>\n",
       "      <td>male</td>\n",
       "      <td>35.0</td>\n",
       "    </tr>\n",
       "    <tr>\n",
       "      <th>5</th>\n",
       "      <td>6</td>\n",
       "      <td>0</td>\n",
       "      <td>Moran, Mr. James</td>\n",
       "      <td>male</td>\n",
       "      <td>NaN</td>\n",
       "    </tr>\n",
       "    <tr>\n",
       "      <th>6</th>\n",
       "      <td>7</td>\n",
       "      <td>0</td>\n",
       "      <td>McCarthy, Mr. Timothy J</td>\n",
       "      <td>male</td>\n",
       "      <td>54.0</td>\n",
       "    </tr>\n",
       "  </tbody>\n",
       "</table>\n",
       "</div>"
      ],
      "text/plain": [
       "   PassengerId  Survived                                               Name  \\\n",
       "0            1         0                            Braund, Mr. Owen Harris   \n",
       "1            2         1  Cumings, Mrs. John Bradley (Florence Briggs Th...   \n",
       "2            3         1                             Heikkinen, Miss. Laina   \n",
       "3            4         1       Futrelle, Mrs. Jacques Heath (Lily May Peel)   \n",
       "4            5         0                           Allen, Mr. William Henry   \n",
       "5            6         0                                   Moran, Mr. James   \n",
       "6            7         0                            McCarthy, Mr. Timothy J   \n",
       "\n",
       "      Sex   Age  \n",
       "0    male  22.0  \n",
       "1  female  38.0  \n",
       "2  female  26.0  \n",
       "3  female  35.0  \n",
       "4    male  35.0  \n",
       "5    male   NaN  \n",
       "6    male  54.0  "
      ]
     },
     "execution_count": 54,
     "metadata": {},
     "output_type": "execute_result"
    }
   ],
   "source": [
    "titanic_data[['PassengerId','Survived','Name','Sex','Age']].head(7)"
   ]
  },
  {
   "cell_type": "markdown",
   "metadata": {},
   "source": [
    "- As we see that row number 5 contains NaN for Age column data,We need to drop all these values before taking the age data into consideration \n",
    "- Now lets take a look at some metrics for Age data."
   ]
  },
  {
   "cell_type": "code",
   "execution_count": 55,
   "metadata": {
    "collapsed": false
   },
   "outputs": [
    {
     "name": "stdout",
     "output_type": "stream",
     "text": [
      "------------------------------\n",
      "Oldest To Survive:  80.0\n",
      "Youngest To Survive:  0.42\n",
      "------------------------------\n",
      "Oldest To die:  74.0\n",
      "Youngest To die:  1.0\n",
      "------------------------------\n",
      "Mean Age Of Survivors:  28.34\n",
      "Mean Age Of Casualties:  30.63\n",
      "------------------------------\n"
     ]
    }
   ],
   "source": [
    "age_data = titanic_data['Age']\n",
    "survived_age_data = age_data[survival_data==1].dropna()\n",
    "casualties_age_data = age_data[survival_data==0].dropna()\n",
    "\n",
    "oldest_to_survive = survived_age_data.max()\n",
    "youngest_to_survive = survived_age_data.min()\n",
    "\n",
    "oldest_to_die = casualties_age_data.max()\n",
    "youngest_to_die = casualties_age_data.min()\n",
    "\n",
    "mean_age_survivors = survived_age_data.mean()\n",
    "mean_age_casualties = casualties_age_data.mean()\n",
    "\n",
    "print('------------------------------')\n",
    "print('Oldest To Survive: ',oldest_to_survive)\n",
    "print('Youngest To Survive: ',youngest_to_survive)\n",
    "print('------------------------------')\n",
    "print('Oldest To die: ',oldest_to_die)\n",
    "print('Youngest To die: ',youngest_to_die)\n",
    "print('------------------------------')\n",
    "print('Mean Age Of Survivors: ',round(mean_age_survivors,2))\n",
    "print('Mean Age Of Casualties: ',round(mean_age_casualties,2))\n",
    "print('------------------------------')"
   ]
  }
 ],
 "metadata": {
  "kernelspec": {
   "display_name": "Python 3",
   "language": "python",
   "name": "python3"
  },
  "language_info": {
   "codemirror_mode": {
    "name": "ipython",
    "version": 3
   },
   "file_extension": ".py",
   "mimetype": "text/x-python",
   "name": "python",
   "nbconvert_exporter": "python",
   "pygments_lexer": "ipython3",
   "version": "3.6.0"
  }
 },
 "nbformat": 4,
 "nbformat_minor": 2
}
